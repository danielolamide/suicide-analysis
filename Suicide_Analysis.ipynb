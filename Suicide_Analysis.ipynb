{
  "nbformat": 4,
  "nbformat_minor": 0,
  "metadata": {
    "colab": {
      "name": "Suicide_Analysis.ipynb",
      "provenance": [],
      "collapsed_sections": [
        "O1WHflvuv45n",
        "2cPFc7yHwAj7",
        "O9K8JuIDwtjd"
      ],
      "toc_visible": true
    },
    "kernelspec": {
      "name": "python3",
      "display_name": "Python 3"
    },
    "language_info": {
      "name": "python"
    }
  },
  "cells": [
    {
      "cell_type": "markdown",
      "metadata": {
        "id": "sCywUnWKtTLF"
      },
      "source": [
        "#1.0 Importing libraries"
      ]
    },
    {
      "cell_type": "code",
      "metadata": {
        "id": "aVGLp_i3VwlH"
      },
      "source": [
        "import pandas as pd\n",
        "import numpy as np\n",
        "import matplotlib.pyplot as plt\n",
        "import seaborn as sns"
      ],
      "execution_count": null,
      "outputs": []
    },
    {
      "cell_type": "markdown",
      "metadata": {
        "id": "JIBm2U5Bta0d"
      },
      "source": [
        "#1.1 Loading our datasets"
      ]
    },
    {
      "cell_type": "code",
      "metadata": {
        "id": "ssSMYOqNuK9J"
      },
      "source": [
        "self_iced = pd.read_csv('/content/who_suicide_statistics.csv')"
      ],
      "execution_count": null,
      "outputs": []
    },
    {
      "cell_type": "code",
      "metadata": {
        "id": "lRsCRCuAen1e"
      },
      "source": [
        "hdi = pd.read_csv('/content/Human_Development_Index_(HDI).csv', encoding='latin-1')"
      ],
      "execution_count": null,
      "outputs": []
    },
    {
      "cell_type": "code",
      "metadata": {
        "id": "FGWjr__DhmLh"
      },
      "source": [
        "cont = pd.read_csv('/content/countryContinent.csv', encoding='latin-1')"
      ],
      "execution_count": null,
      "outputs": []
    },
    {
      "cell_type": "code",
      "metadata": {
        "id": "8cgTIVMAbPVG"
      },
      "source": [
        "gdp_pc = pd.read_excel('/content/gdp_per_capita.xlsx')"
      ],
      "execution_count": null,
      "outputs": []
    },
    {
      "cell_type": "markdown",
      "metadata": {
        "id": "5JXn-Bkbtmcb"
      },
      "source": [
        "#1.2 Previewing our datasets"
      ]
    },
    {
      "cell_type": "code",
      "metadata": {
        "colab": {
          "base_uri": "https://localhost:8080/",
          "height": 241
        },
        "id": "vGXEKF2JtyK7",
        "outputId": "2ca53f8a-8ecd-4956-c293-0a27c08d2d66"
      },
      "source": [
        "hdi.head()"
      ],
      "execution_count": null,
      "outputs": [
        {
          "output_type": "execute_result",
          "data": {
            "text/html": [
              "<div>\n",
              "<style scoped>\n",
              "    .dataframe tbody tr th:only-of-type {\n",
              "        vertical-align: middle;\n",
              "    }\n",
              "\n",
              "    .dataframe tbody tr th {\n",
              "        vertical-align: top;\n",
              "    }\n",
              "\n",
              "    .dataframe thead th {\n",
              "        text-align: right;\n",
              "    }\n",
              "</style>\n",
              "<table border=\"1\" class=\"dataframe\">\n",
              "  <thead>\n",
              "    <tr style=\"text-align: right;\">\n",
              "      <th></th>\n",
              "      <th>HDI Rank</th>\n",
              "      <th>Country</th>\n",
              "      <th>1990</th>\n",
              "      <th>Unnamed: 3</th>\n",
              "      <th>1991</th>\n",
              "      <th>Unnamed: 5</th>\n",
              "      <th>1992</th>\n",
              "      <th>Unnamed: 7</th>\n",
              "      <th>1993</th>\n",
              "      <th>Unnamed: 9</th>\n",
              "      <th>1994</th>\n",
              "      <th>Unnamed: 11</th>\n",
              "      <th>1995</th>\n",
              "      <th>Unnamed: 13</th>\n",
              "      <th>1996</th>\n",
              "      <th>Unnamed: 15</th>\n",
              "      <th>1997</th>\n",
              "      <th>Unnamed: 17</th>\n",
              "      <th>1998</th>\n",
              "      <th>Unnamed: 19</th>\n",
              "      <th>1999</th>\n",
              "      <th>Unnamed: 21</th>\n",
              "      <th>2000</th>\n",
              "      <th>Unnamed: 23</th>\n",
              "      <th>2001</th>\n",
              "      <th>Unnamed: 25</th>\n",
              "      <th>2002</th>\n",
              "      <th>Unnamed: 27</th>\n",
              "      <th>2003</th>\n",
              "      <th>Unnamed: 29</th>\n",
              "      <th>2004</th>\n",
              "      <th>Unnamed: 31</th>\n",
              "      <th>2005</th>\n",
              "      <th>Unnamed: 33</th>\n",
              "      <th>2006</th>\n",
              "      <th>Unnamed: 35</th>\n",
              "      <th>2007</th>\n",
              "      <th>Unnamed: 37</th>\n",
              "      <th>2008</th>\n",
              "      <th>Unnamed: 39</th>\n",
              "      <th>2009</th>\n",
              "      <th>Unnamed: 41</th>\n",
              "      <th>2010</th>\n",
              "      <th>Unnamed: 43</th>\n",
              "      <th>2011</th>\n",
              "      <th>Unnamed: 45</th>\n",
              "      <th>2012</th>\n",
              "      <th>Unnamed: 47</th>\n",
              "      <th>2013</th>\n",
              "      <th>Unnamed: 49</th>\n",
              "      <th>2014</th>\n",
              "      <th>Unnamed: 51</th>\n",
              "      <th>2015</th>\n",
              "      <th>Unnamed: 53</th>\n",
              "      <th>2016</th>\n",
              "      <th>Unnamed: 55</th>\n",
              "      <th>2017</th>\n",
              "      <th>Unnamed: 57</th>\n",
              "      <th>2018</th>\n",
              "      <th>Unnamed: 59</th>\n",
              "      <th>2019</th>\n",
              "    </tr>\n",
              "  </thead>\n",
              "  <tbody>\n",
              "    <tr>\n",
              "      <th>0</th>\n",
              "      <td>169</td>\n",
              "      <td>Afghanistan</td>\n",
              "      <td>0.302</td>\n",
              "      <td>NaN</td>\n",
              "      <td>0.307</td>\n",
              "      <td>NaN</td>\n",
              "      <td>0.316</td>\n",
              "      <td>NaN</td>\n",
              "      <td>0.312</td>\n",
              "      <td>NaN</td>\n",
              "      <td>0.307</td>\n",
              "      <td>NaN</td>\n",
              "      <td>0.331</td>\n",
              "      <td>NaN</td>\n",
              "      <td>0.335</td>\n",
              "      <td>NaN</td>\n",
              "      <td>0.339</td>\n",
              "      <td>NaN</td>\n",
              "      <td>0.344</td>\n",
              "      <td>NaN</td>\n",
              "      <td>0.348</td>\n",
              "      <td>NaN</td>\n",
              "      <td>0.35</td>\n",
              "      <td>NaN</td>\n",
              "      <td>0.353</td>\n",
              "      <td>NaN</td>\n",
              "      <td>0.384</td>\n",
              "      <td>NaN</td>\n",
              "      <td>0.393</td>\n",
              "      <td>NaN</td>\n",
              "      <td>0.409</td>\n",
              "      <td>NaN</td>\n",
              "      <td>0.418</td>\n",
              "      <td>NaN</td>\n",
              "      <td>0.429</td>\n",
              "      <td>NaN</td>\n",
              "      <td>0.447</td>\n",
              "      <td>NaN</td>\n",
              "      <td>0.447</td>\n",
              "      <td>NaN</td>\n",
              "      <td>0.46</td>\n",
              "      <td>NaN</td>\n",
              "      <td>0.472</td>\n",
              "      <td>NaN</td>\n",
              "      <td>0.477</td>\n",
              "      <td>NaN</td>\n",
              "      <td>0.489</td>\n",
              "      <td>NaN</td>\n",
              "      <td>0.496</td>\n",
              "      <td>NaN</td>\n",
              "      <td>0.5</td>\n",
              "      <td>NaN</td>\n",
              "      <td>0.5</td>\n",
              "      <td>NaN</td>\n",
              "      <td>0.502</td>\n",
              "      <td>NaN</td>\n",
              "      <td>0.506</td>\n",
              "      <td>NaN</td>\n",
              "      <td>0.509</td>\n",
              "      <td>NaN</td>\n",
              "      <td>0.511</td>\n",
              "    </tr>\n",
              "    <tr>\n",
              "      <th>1</th>\n",
              "      <td>69</td>\n",
              "      <td>Albania</td>\n",
              "      <td>0.65</td>\n",
              "      <td>NaN</td>\n",
              "      <td>0.631</td>\n",
              "      <td>NaN</td>\n",
              "      <td>0.615</td>\n",
              "      <td>NaN</td>\n",
              "      <td>0.618</td>\n",
              "      <td>NaN</td>\n",
              "      <td>0.624</td>\n",
              "      <td>NaN</td>\n",
              "      <td>0.637</td>\n",
              "      <td>NaN</td>\n",
              "      <td>0.646</td>\n",
              "      <td>NaN</td>\n",
              "      <td>0.645</td>\n",
              "      <td>NaN</td>\n",
              "      <td>0.655</td>\n",
              "      <td>NaN</td>\n",
              "      <td>0.665</td>\n",
              "      <td>NaN</td>\n",
              "      <td>0.671</td>\n",
              "      <td>NaN</td>\n",
              "      <td>0.678</td>\n",
              "      <td>NaN</td>\n",
              "      <td>0.684</td>\n",
              "      <td>NaN</td>\n",
              "      <td>0.691</td>\n",
              "      <td>NaN</td>\n",
              "      <td>0.696</td>\n",
              "      <td>NaN</td>\n",
              "      <td>0.706</td>\n",
              "      <td>NaN</td>\n",
              "      <td>0.713</td>\n",
              "      <td>NaN</td>\n",
              "      <td>0.722</td>\n",
              "      <td>NaN</td>\n",
              "      <td>0.728</td>\n",
              "      <td>NaN</td>\n",
              "      <td>0.733</td>\n",
              "      <td>NaN</td>\n",
              "      <td>0.745</td>\n",
              "      <td>NaN</td>\n",
              "      <td>0.764</td>\n",
              "      <td>NaN</td>\n",
              "      <td>0.775</td>\n",
              "      <td>NaN</td>\n",
              "      <td>0.782</td>\n",
              "      <td>NaN</td>\n",
              "      <td>0.787</td>\n",
              "      <td>NaN</td>\n",
              "      <td>0.788</td>\n",
              "      <td>NaN</td>\n",
              "      <td>0.788</td>\n",
              "      <td>NaN</td>\n",
              "      <td>0.79</td>\n",
              "      <td>NaN</td>\n",
              "      <td>0.792</td>\n",
              "      <td>NaN</td>\n",
              "      <td>0.795</td>\n",
              "    </tr>\n",
              "    <tr>\n",
              "      <th>2</th>\n",
              "      <td>91</td>\n",
              "      <td>Algeria</td>\n",
              "      <td>0.572</td>\n",
              "      <td>NaN</td>\n",
              "      <td>0.576</td>\n",
              "      <td>NaN</td>\n",
              "      <td>0.582</td>\n",
              "      <td>NaN</td>\n",
              "      <td>0.586</td>\n",
              "      <td>NaN</td>\n",
              "      <td>0.59</td>\n",
              "      <td>NaN</td>\n",
              "      <td>0.595</td>\n",
              "      <td>NaN</td>\n",
              "      <td>0.602</td>\n",
              "      <td>NaN</td>\n",
              "      <td>0.611</td>\n",
              "      <td>NaN</td>\n",
              "      <td>0.621</td>\n",
              "      <td>NaN</td>\n",
              "      <td>0.629</td>\n",
              "      <td>NaN</td>\n",
              "      <td>0.637</td>\n",
              "      <td>NaN</td>\n",
              "      <td>0.647</td>\n",
              "      <td>NaN</td>\n",
              "      <td>0.657</td>\n",
              "      <td>NaN</td>\n",
              "      <td>0.667</td>\n",
              "      <td>NaN</td>\n",
              "      <td>0.677</td>\n",
              "      <td>NaN</td>\n",
              "      <td>0.685</td>\n",
              "      <td>NaN</td>\n",
              "      <td>0.69</td>\n",
              "      <td>NaN</td>\n",
              "      <td>0.7</td>\n",
              "      <td>NaN</td>\n",
              "      <td>0.702</td>\n",
              "      <td>NaN</td>\n",
              "      <td>0.711</td>\n",
              "      <td>NaN</td>\n",
              "      <td>0.721</td>\n",
              "      <td>NaN</td>\n",
              "      <td>0.728</td>\n",
              "      <td>NaN</td>\n",
              "      <td>0.728</td>\n",
              "      <td>NaN</td>\n",
              "      <td>0.729</td>\n",
              "      <td>NaN</td>\n",
              "      <td>0.736</td>\n",
              "      <td>NaN</td>\n",
              "      <td>0.74</td>\n",
              "      <td>NaN</td>\n",
              "      <td>0.743</td>\n",
              "      <td>NaN</td>\n",
              "      <td>0.745</td>\n",
              "      <td>NaN</td>\n",
              "      <td>0.746</td>\n",
              "      <td>NaN</td>\n",
              "      <td>0.748</td>\n",
              "    </tr>\n",
              "    <tr>\n",
              "      <th>3</th>\n",
              "      <td>36</td>\n",
              "      <td>Andorra</td>\n",
              "      <td>..</td>\n",
              "      <td>NaN</td>\n",
              "      <td>..</td>\n",
              "      <td>NaN</td>\n",
              "      <td>..</td>\n",
              "      <td>NaN</td>\n",
              "      <td>..</td>\n",
              "      <td>NaN</td>\n",
              "      <td>..</td>\n",
              "      <td>NaN</td>\n",
              "      <td>..</td>\n",
              "      <td>NaN</td>\n",
              "      <td>..</td>\n",
              "      <td>NaN</td>\n",
              "      <td>..</td>\n",
              "      <td>NaN</td>\n",
              "      <td>..</td>\n",
              "      <td>NaN</td>\n",
              "      <td>..</td>\n",
              "      <td>NaN</td>\n",
              "      <td>0.813</td>\n",
              "      <td>NaN</td>\n",
              "      <td>0.815</td>\n",
              "      <td>NaN</td>\n",
              "      <td>0.82</td>\n",
              "      <td>NaN</td>\n",
              "      <td>0.827</td>\n",
              "      <td>NaN</td>\n",
              "      <td>0.833</td>\n",
              "      <td>NaN</td>\n",
              "      <td>0.827</td>\n",
              "      <td>NaN</td>\n",
              "      <td>0.837</td>\n",
              "      <td>NaN</td>\n",
              "      <td>0.837</td>\n",
              "      <td>NaN</td>\n",
              "      <td>0.84</td>\n",
              "      <td>NaN</td>\n",
              "      <td>0.839</td>\n",
              "      <td>NaN</td>\n",
              "      <td>0.837</td>\n",
              "      <td>NaN</td>\n",
              "      <td>0.836</td>\n",
              "      <td>NaN</td>\n",
              "      <td>0.858</td>\n",
              "      <td>NaN</td>\n",
              "      <td>0.856</td>\n",
              "      <td>NaN</td>\n",
              "      <td>0.863</td>\n",
              "      <td>NaN</td>\n",
              "      <td>0.862</td>\n",
              "      <td>NaN</td>\n",
              "      <td>0.866</td>\n",
              "      <td>NaN</td>\n",
              "      <td>0.863</td>\n",
              "      <td>NaN</td>\n",
              "      <td>0.867</td>\n",
              "      <td>NaN</td>\n",
              "      <td>0.868</td>\n",
              "    </tr>\n",
              "    <tr>\n",
              "      <th>4</th>\n",
              "      <td>148</td>\n",
              "      <td>Angola</td>\n",
              "      <td>..</td>\n",
              "      <td>NaN</td>\n",
              "      <td>..</td>\n",
              "      <td>NaN</td>\n",
              "      <td>..</td>\n",
              "      <td>NaN</td>\n",
              "      <td>..</td>\n",
              "      <td>NaN</td>\n",
              "      <td>..</td>\n",
              "      <td>NaN</td>\n",
              "      <td>..</td>\n",
              "      <td>NaN</td>\n",
              "      <td>..</td>\n",
              "      <td>NaN</td>\n",
              "      <td>..</td>\n",
              "      <td>NaN</td>\n",
              "      <td>..</td>\n",
              "      <td>NaN</td>\n",
              "      <td>0.391</td>\n",
              "      <td>NaN</td>\n",
              "      <td>0.4</td>\n",
              "      <td>NaN</td>\n",
              "      <td>0.41</td>\n",
              "      <td>NaN</td>\n",
              "      <td>0.426</td>\n",
              "      <td>NaN</td>\n",
              "      <td>0.435</td>\n",
              "      <td>NaN</td>\n",
              "      <td>0.446</td>\n",
              "      <td>NaN</td>\n",
              "      <td>0.46</td>\n",
              "      <td>NaN</td>\n",
              "      <td>0.473</td>\n",
              "      <td>NaN</td>\n",
              "      <td>0.489</td>\n",
              "      <td>NaN</td>\n",
              "      <td>0.501</td>\n",
              "      <td>NaN</td>\n",
              "      <td>0.515</td>\n",
              "      <td>NaN</td>\n",
              "      <td>0.517</td>\n",
              "      <td>NaN</td>\n",
              "      <td>0.533</td>\n",
              "      <td>NaN</td>\n",
              "      <td>0.544</td>\n",
              "      <td>NaN</td>\n",
              "      <td>0.555</td>\n",
              "      <td>NaN</td>\n",
              "      <td>0.565</td>\n",
              "      <td>NaN</td>\n",
              "      <td>0.572</td>\n",
              "      <td>NaN</td>\n",
              "      <td>0.578</td>\n",
              "      <td>NaN</td>\n",
              "      <td>0.582</td>\n",
              "      <td>NaN</td>\n",
              "      <td>0.582</td>\n",
              "      <td>NaN</td>\n",
              "      <td>0.581</td>\n",
              "    </tr>\n",
              "  </tbody>\n",
              "</table>\n",
              "</div>"
            ],
            "text/plain": [
              "  HDI Rank       Country   1990  ...   2018 Unnamed: 59   2019\n",
              "0      169   Afghanistan  0.302  ...  0.509         NaN  0.511\n",
              "1       69       Albania   0.65  ...  0.792         NaN  0.795\n",
              "2       91       Algeria  0.572  ...  0.746         NaN  0.748\n",
              "3       36       Andorra     ..  ...  0.867         NaN  0.868\n",
              "4      148        Angola     ..  ...  0.582         NaN  0.581\n",
              "\n",
              "[5 rows x 61 columns]"
            ]
          },
          "metadata": {
            "tags": []
          },
          "execution_count": 6
        }
      ]
    },
    {
      "cell_type": "code",
      "metadata": {
        "colab": {
          "base_uri": "https://localhost:8080/",
          "height": 428
        },
        "id": "QmeHh_unvTvq",
        "outputId": "0d761c05-4488-4d9a-9a53-261b5485bdd4"
      },
      "source": [
        "hdi.tail()"
      ],
      "execution_count": null,
      "outputs": [
        {
          "output_type": "execute_result",
          "data": {
            "text/html": [
              "<div>\n",
              "<style scoped>\n",
              "    .dataframe tbody tr th:only-of-type {\n",
              "        vertical-align: middle;\n",
              "    }\n",
              "\n",
              "    .dataframe tbody tr th {\n",
              "        vertical-align: top;\n",
              "    }\n",
              "\n",
              "    .dataframe thead th {\n",
              "        text-align: right;\n",
              "    }\n",
              "</style>\n",
              "<table border=\"1\" class=\"dataframe\">\n",
              "  <thead>\n",
              "    <tr style=\"text-align: right;\">\n",
              "      <th></th>\n",
              "      <th>HDI Rank</th>\n",
              "      <th>Country</th>\n",
              "      <th>1990</th>\n",
              "      <th>Unnamed: 3</th>\n",
              "      <th>1991</th>\n",
              "      <th>Unnamed: 5</th>\n",
              "      <th>1992</th>\n",
              "      <th>Unnamed: 7</th>\n",
              "      <th>1993</th>\n",
              "      <th>Unnamed: 9</th>\n",
              "      <th>1994</th>\n",
              "      <th>Unnamed: 11</th>\n",
              "      <th>1995</th>\n",
              "      <th>Unnamed: 13</th>\n",
              "      <th>1996</th>\n",
              "      <th>Unnamed: 15</th>\n",
              "      <th>1997</th>\n",
              "      <th>Unnamed: 17</th>\n",
              "      <th>1998</th>\n",
              "      <th>Unnamed: 19</th>\n",
              "      <th>1999</th>\n",
              "      <th>Unnamed: 21</th>\n",
              "      <th>2000</th>\n",
              "      <th>Unnamed: 23</th>\n",
              "      <th>2001</th>\n",
              "      <th>Unnamed: 25</th>\n",
              "      <th>2002</th>\n",
              "      <th>Unnamed: 27</th>\n",
              "      <th>2003</th>\n",
              "      <th>Unnamed: 29</th>\n",
              "      <th>2004</th>\n",
              "      <th>Unnamed: 31</th>\n",
              "      <th>2005</th>\n",
              "      <th>Unnamed: 33</th>\n",
              "      <th>2006</th>\n",
              "      <th>Unnamed: 35</th>\n",
              "      <th>2007</th>\n",
              "      <th>Unnamed: 37</th>\n",
              "      <th>2008</th>\n",
              "      <th>Unnamed: 39</th>\n",
              "      <th>2009</th>\n",
              "      <th>Unnamed: 41</th>\n",
              "      <th>2010</th>\n",
              "      <th>Unnamed: 43</th>\n",
              "      <th>2011</th>\n",
              "      <th>Unnamed: 45</th>\n",
              "      <th>2012</th>\n",
              "      <th>Unnamed: 47</th>\n",
              "      <th>2013</th>\n",
              "      <th>Unnamed: 49</th>\n",
              "      <th>2014</th>\n",
              "      <th>Unnamed: 51</th>\n",
              "      <th>2015</th>\n",
              "      <th>Unnamed: 53</th>\n",
              "      <th>2016</th>\n",
              "      <th>Unnamed: 55</th>\n",
              "      <th>2017</th>\n",
              "      <th>Unnamed: 57</th>\n",
              "      <th>2018</th>\n",
              "      <th>Unnamed: 59</th>\n",
              "      <th>2019</th>\n",
              "    </tr>\n",
              "  </thead>\n",
              "  <tbody>\n",
              "    <tr>\n",
              "      <th>201</th>\n",
              "      <td></td>\n",
              "      <td>Sub-Saharan Africa</td>\n",
              "      <td>0.402</td>\n",
              "      <td>NaN</td>\n",
              "      <td>0.404</td>\n",
              "      <td>NaN</td>\n",
              "      <td>0.404</td>\n",
              "      <td>NaN</td>\n",
              "      <td>0.406</td>\n",
              "      <td>NaN</td>\n",
              "      <td>0.407</td>\n",
              "      <td>NaN</td>\n",
              "      <td>0.411</td>\n",
              "      <td>NaN</td>\n",
              "      <td>0.415</td>\n",
              "      <td>NaN</td>\n",
              "      <td>0.418</td>\n",
              "      <td>NaN</td>\n",
              "      <td>0.422</td>\n",
              "      <td>NaN</td>\n",
              "      <td>0.425</td>\n",
              "      <td>NaN</td>\n",
              "      <td>0.423</td>\n",
              "      <td>NaN</td>\n",
              "      <td>0.426</td>\n",
              "      <td>NaN</td>\n",
              "      <td>0.434</td>\n",
              "      <td>NaN</td>\n",
              "      <td>0.444</td>\n",
              "      <td>NaN</td>\n",
              "      <td>0.451</td>\n",
              "      <td>NaN</td>\n",
              "      <td>0.459</td>\n",
              "      <td>NaN</td>\n",
              "      <td>0.469</td>\n",
              "      <td>NaN</td>\n",
              "      <td>0.477</td>\n",
              "      <td>NaN</td>\n",
              "      <td>0.486</td>\n",
              "      <td>NaN</td>\n",
              "      <td>0.494</td>\n",
              "      <td>NaN</td>\n",
              "      <td>0.498</td>\n",
              "      <td>NaN</td>\n",
              "      <td>0.505</td>\n",
              "      <td>NaN</td>\n",
              "      <td>0.512</td>\n",
              "      <td>NaN</td>\n",
              "      <td>0.521</td>\n",
              "      <td>NaN</td>\n",
              "      <td>0.527</td>\n",
              "      <td>NaN</td>\n",
              "      <td>0.532</td>\n",
              "      <td>NaN</td>\n",
              "      <td>0.535</td>\n",
              "      <td>NaN</td>\n",
              "      <td>0.539</td>\n",
              "      <td>NaN</td>\n",
              "      <td>0.541</td>\n",
              "      <td>NaN</td>\n",
              "      <td>0.547</td>\n",
              "    </tr>\n",
              "    <tr>\n",
              "      <th>202</th>\n",
              "      <td></td>\n",
              "      <td>Least Developed Countries</td>\n",
              "      <td>0.35</td>\n",
              "      <td>NaN</td>\n",
              "      <td>0.353</td>\n",
              "      <td>NaN</td>\n",
              "      <td>0.354</td>\n",
              "      <td>NaN</td>\n",
              "      <td>0.358</td>\n",
              "      <td>NaN</td>\n",
              "      <td>0.358</td>\n",
              "      <td>NaN</td>\n",
              "      <td>0.366</td>\n",
              "      <td>NaN</td>\n",
              "      <td>0.374</td>\n",
              "      <td>NaN</td>\n",
              "      <td>0.381</td>\n",
              "      <td>NaN</td>\n",
              "      <td>0.388</td>\n",
              "      <td>NaN</td>\n",
              "      <td>0.394</td>\n",
              "      <td>NaN</td>\n",
              "      <td>0.399</td>\n",
              "      <td>NaN</td>\n",
              "      <td>0.407</td>\n",
              "      <td>NaN</td>\n",
              "      <td>0.415</td>\n",
              "      <td>NaN</td>\n",
              "      <td>0.422</td>\n",
              "      <td>NaN</td>\n",
              "      <td>0.43</td>\n",
              "      <td>NaN</td>\n",
              "      <td>0.439</td>\n",
              "      <td>NaN</td>\n",
              "      <td>0.448</td>\n",
              "      <td>NaN</td>\n",
              "      <td>0.458</td>\n",
              "      <td>NaN</td>\n",
              "      <td>0.467</td>\n",
              "      <td>NaN</td>\n",
              "      <td>0.477</td>\n",
              "      <td>NaN</td>\n",
              "      <td>0.485</td>\n",
              "      <td>NaN</td>\n",
              "      <td>0.493</td>\n",
              "      <td>NaN</td>\n",
              "      <td>0.499</td>\n",
              "      <td>NaN</td>\n",
              "      <td>0.504</td>\n",
              "      <td>NaN</td>\n",
              "      <td>0.51</td>\n",
              "      <td>NaN</td>\n",
              "      <td>0.516</td>\n",
              "      <td>NaN</td>\n",
              "      <td>0.52</td>\n",
              "      <td>NaN</td>\n",
              "      <td>0.525</td>\n",
              "      <td>NaN</td>\n",
              "      <td>0.528</td>\n",
              "      <td>NaN</td>\n",
              "      <td>0.538</td>\n",
              "    </tr>\n",
              "    <tr>\n",
              "      <th>203</th>\n",
              "      <td></td>\n",
              "      <td>Small Island Developing States</td>\n",
              "      <td>0.595</td>\n",
              "      <td>NaN</td>\n",
              "      <td>0.598</td>\n",
              "      <td>NaN</td>\n",
              "      <td>0.603</td>\n",
              "      <td>NaN</td>\n",
              "      <td>0.608</td>\n",
              "      <td>NaN</td>\n",
              "      <td>0.612</td>\n",
              "      <td>NaN</td>\n",
              "      <td>0.618</td>\n",
              "      <td>NaN</td>\n",
              "      <td>0.624</td>\n",
              "      <td>NaN</td>\n",
              "      <td>0.629</td>\n",
              "      <td>NaN</td>\n",
              "      <td>0.632</td>\n",
              "      <td>NaN</td>\n",
              "      <td>0.638</td>\n",
              "      <td>NaN</td>\n",
              "      <td>0.642</td>\n",
              "      <td>NaN</td>\n",
              "      <td>0.645</td>\n",
              "      <td>NaN</td>\n",
              "      <td>0.649</td>\n",
              "      <td>NaN</td>\n",
              "      <td>0.655</td>\n",
              "      <td>NaN</td>\n",
              "      <td>0.662</td>\n",
              "      <td>NaN</td>\n",
              "      <td>0.668</td>\n",
              "      <td>NaN</td>\n",
              "      <td>0.678</td>\n",
              "      <td>NaN</td>\n",
              "      <td>0.687</td>\n",
              "      <td>NaN</td>\n",
              "      <td>0.692</td>\n",
              "      <td>NaN</td>\n",
              "      <td>0.694</td>\n",
              "      <td>NaN</td>\n",
              "      <td>0.702</td>\n",
              "      <td>NaN</td>\n",
              "      <td>0.706</td>\n",
              "      <td>NaN</td>\n",
              "      <td>0.704</td>\n",
              "      <td>NaN</td>\n",
              "      <td>0.708</td>\n",
              "      <td>NaN</td>\n",
              "      <td>0.712</td>\n",
              "      <td>NaN</td>\n",
              "      <td>0.717</td>\n",
              "      <td>NaN</td>\n",
              "      <td>0.719</td>\n",
              "      <td>NaN</td>\n",
              "      <td>0.722</td>\n",
              "      <td>NaN</td>\n",
              "      <td>0.723</td>\n",
              "      <td>NaN</td>\n",
              "      <td>0.728</td>\n",
              "    </tr>\n",
              "    <tr>\n",
              "      <th>204</th>\n",
              "      <td></td>\n",
              "      <td>Organization for Economic Co-operation and Dev...</td>\n",
              "      <td>0.785</td>\n",
              "      <td>NaN</td>\n",
              "      <td>0.79</td>\n",
              "      <td>NaN</td>\n",
              "      <td>0.788</td>\n",
              "      <td>NaN</td>\n",
              "      <td>0.8</td>\n",
              "      <td>NaN</td>\n",
              "      <td>0.807</td>\n",
              "      <td>NaN</td>\n",
              "      <td>0.812</td>\n",
              "      <td>NaN</td>\n",
              "      <td>0.817</td>\n",
              "      <td>NaN</td>\n",
              "      <td>0.817</td>\n",
              "      <td>NaN</td>\n",
              "      <td>0.826</td>\n",
              "      <td>NaN</td>\n",
              "      <td>0.831</td>\n",
              "      <td>NaN</td>\n",
              "      <td>0.834</td>\n",
              "      <td>NaN</td>\n",
              "      <td>0.839</td>\n",
              "      <td>NaN</td>\n",
              "      <td>0.843</td>\n",
              "      <td>NaN</td>\n",
              "      <td>0.848</td>\n",
              "      <td>NaN</td>\n",
              "      <td>0.852</td>\n",
              "      <td>NaN</td>\n",
              "      <td>0.856</td>\n",
              "      <td>NaN</td>\n",
              "      <td>0.86</td>\n",
              "      <td>NaN</td>\n",
              "      <td>0.864</td>\n",
              "      <td>NaN</td>\n",
              "      <td>0.867</td>\n",
              "      <td>NaN</td>\n",
              "      <td>0.868</td>\n",
              "      <td>NaN</td>\n",
              "      <td>0.873</td>\n",
              "      <td>NaN</td>\n",
              "      <td>0.877</td>\n",
              "      <td>NaN</td>\n",
              "      <td>0.879</td>\n",
              "      <td>NaN</td>\n",
              "      <td>0.883</td>\n",
              "      <td>NaN</td>\n",
              "      <td>0.886</td>\n",
              "      <td>NaN</td>\n",
              "      <td>0.889</td>\n",
              "      <td>NaN</td>\n",
              "      <td>0.892</td>\n",
              "      <td>NaN</td>\n",
              "      <td>0.894</td>\n",
              "      <td>NaN</td>\n",
              "      <td>0.895</td>\n",
              "      <td>NaN</td>\n",
              "      <td>0.9</td>\n",
              "    </tr>\n",
              "    <tr>\n",
              "      <th>205</th>\n",
              "      <td></td>\n",
              "      <td>World</td>\n",
              "      <td>0.598</td>\n",
              "      <td>NaN</td>\n",
              "      <td>0.601</td>\n",
              "      <td>NaN</td>\n",
              "      <td>0.601</td>\n",
              "      <td>NaN</td>\n",
              "      <td>0.608</td>\n",
              "      <td>NaN</td>\n",
              "      <td>0.611</td>\n",
              "      <td>NaN</td>\n",
              "      <td>0.617</td>\n",
              "      <td>NaN</td>\n",
              "      <td>0.622</td>\n",
              "      <td>NaN</td>\n",
              "      <td>0.624</td>\n",
              "      <td>NaN</td>\n",
              "      <td>0.631</td>\n",
              "      <td>NaN</td>\n",
              "      <td>0.636</td>\n",
              "      <td>NaN</td>\n",
              "      <td>0.641</td>\n",
              "      <td>NaN</td>\n",
              "      <td>0.646</td>\n",
              "      <td>NaN</td>\n",
              "      <td>0.651</td>\n",
              "      <td>NaN</td>\n",
              "      <td>0.657</td>\n",
              "      <td>NaN</td>\n",
              "      <td>0.663</td>\n",
              "      <td>NaN</td>\n",
              "      <td>0.669</td>\n",
              "      <td>NaN</td>\n",
              "      <td>0.676</td>\n",
              "      <td>NaN</td>\n",
              "      <td>0.682</td>\n",
              "      <td>NaN</td>\n",
              "      <td>0.688</td>\n",
              "      <td>NaN</td>\n",
              "      <td>0.691</td>\n",
              "      <td>NaN</td>\n",
              "      <td>0.697</td>\n",
              "      <td>NaN</td>\n",
              "      <td>0.703</td>\n",
              "      <td>NaN</td>\n",
              "      <td>0.708</td>\n",
              "      <td>NaN</td>\n",
              "      <td>0.713</td>\n",
              "      <td>NaN</td>\n",
              "      <td>0.718</td>\n",
              "      <td>NaN</td>\n",
              "      <td>0.722</td>\n",
              "      <td>NaN</td>\n",
              "      <td>0.727</td>\n",
              "      <td>NaN</td>\n",
              "      <td>0.729</td>\n",
              "      <td>NaN</td>\n",
              "      <td>0.731</td>\n",
              "      <td>NaN</td>\n",
              "      <td>0.737</td>\n",
              "    </tr>\n",
              "  </tbody>\n",
              "</table>\n",
              "</div>"
            ],
            "text/plain": [
              "    HDI Rank  ...   2019\n",
              "201           ...  0.547\n",
              "202           ...  0.538\n",
              "203           ...  0.728\n",
              "204           ...    0.9\n",
              "205           ...  0.737\n",
              "\n",
              "[5 rows x 61 columns]"
            ]
          },
          "metadata": {
            "tags": []
          },
          "execution_count": 7
        }
      ]
    },
    {
      "cell_type": "code",
      "metadata": {
        "colab": {
          "base_uri": "https://localhost:8080/",
          "height": 281
        },
        "id": "dfFKOJH1vYiB",
        "outputId": "4e86a9e6-67d0-4dc3-b49a-7ee8c5422fb7"
      },
      "source": [
        "hdi.sample(3)"
      ],
      "execution_count": null,
      "outputs": [
        {
          "output_type": "execute_result",
          "data": {
            "text/html": [
              "<div>\n",
              "<style scoped>\n",
              "    .dataframe tbody tr th:only-of-type {\n",
              "        vertical-align: middle;\n",
              "    }\n",
              "\n",
              "    .dataframe tbody tr th {\n",
              "        vertical-align: top;\n",
              "    }\n",
              "\n",
              "    .dataframe thead th {\n",
              "        text-align: right;\n",
              "    }\n",
              "</style>\n",
              "<table border=\"1\" class=\"dataframe\">\n",
              "  <thead>\n",
              "    <tr style=\"text-align: right;\">\n",
              "      <th></th>\n",
              "      <th>HDI Rank</th>\n",
              "      <th>Country</th>\n",
              "      <th>1990</th>\n",
              "      <th>Unnamed: 3</th>\n",
              "      <th>1991</th>\n",
              "      <th>Unnamed: 5</th>\n",
              "      <th>1992</th>\n",
              "      <th>Unnamed: 7</th>\n",
              "      <th>1993</th>\n",
              "      <th>Unnamed: 9</th>\n",
              "      <th>1994</th>\n",
              "      <th>Unnamed: 11</th>\n",
              "      <th>1995</th>\n",
              "      <th>Unnamed: 13</th>\n",
              "      <th>1996</th>\n",
              "      <th>Unnamed: 15</th>\n",
              "      <th>1997</th>\n",
              "      <th>Unnamed: 17</th>\n",
              "      <th>1998</th>\n",
              "      <th>Unnamed: 19</th>\n",
              "      <th>1999</th>\n",
              "      <th>Unnamed: 21</th>\n",
              "      <th>2000</th>\n",
              "      <th>Unnamed: 23</th>\n",
              "      <th>2001</th>\n",
              "      <th>Unnamed: 25</th>\n",
              "      <th>2002</th>\n",
              "      <th>Unnamed: 27</th>\n",
              "      <th>2003</th>\n",
              "      <th>Unnamed: 29</th>\n",
              "      <th>2004</th>\n",
              "      <th>Unnamed: 31</th>\n",
              "      <th>2005</th>\n",
              "      <th>Unnamed: 33</th>\n",
              "      <th>2006</th>\n",
              "      <th>Unnamed: 35</th>\n",
              "      <th>2007</th>\n",
              "      <th>Unnamed: 37</th>\n",
              "      <th>2008</th>\n",
              "      <th>Unnamed: 39</th>\n",
              "      <th>2009</th>\n",
              "      <th>Unnamed: 41</th>\n",
              "      <th>2010</th>\n",
              "      <th>Unnamed: 43</th>\n",
              "      <th>2011</th>\n",
              "      <th>Unnamed: 45</th>\n",
              "      <th>2012</th>\n",
              "      <th>Unnamed: 47</th>\n",
              "      <th>2013</th>\n",
              "      <th>Unnamed: 49</th>\n",
              "      <th>2014</th>\n",
              "      <th>Unnamed: 51</th>\n",
              "      <th>2015</th>\n",
              "      <th>Unnamed: 53</th>\n",
              "      <th>2016</th>\n",
              "      <th>Unnamed: 55</th>\n",
              "      <th>2017</th>\n",
              "      <th>Unnamed: 57</th>\n",
              "      <th>2018</th>\n",
              "      <th>Unnamed: 59</th>\n",
              "      <th>2019</th>\n",
              "    </tr>\n",
              "  </thead>\n",
              "  <tbody>\n",
              "    <tr>\n",
              "      <th>93</th>\n",
              "      <td>137</td>\n",
              "      <td>Lao People's Democratic Republic</td>\n",
              "      <td>0.405</td>\n",
              "      <td>NaN</td>\n",
              "      <td>0.41</td>\n",
              "      <td>NaN</td>\n",
              "      <td>0.415</td>\n",
              "      <td>NaN</td>\n",
              "      <td>0.421</td>\n",
              "      <td>NaN</td>\n",
              "      <td>0.43</td>\n",
              "      <td>NaN</td>\n",
              "      <td>0.432</td>\n",
              "      <td>NaN</td>\n",
              "      <td>0.445</td>\n",
              "      <td>NaN</td>\n",
              "      <td>0.453</td>\n",
              "      <td>NaN</td>\n",
              "      <td>0.46</td>\n",
              "      <td>NaN</td>\n",
              "      <td>0.467</td>\n",
              "      <td>NaN</td>\n",
              "      <td>0.471</td>\n",
              "      <td>NaN</td>\n",
              "      <td>0.477</td>\n",
              "      <td>NaN</td>\n",
              "      <td>0.486</td>\n",
              "      <td>NaN</td>\n",
              "      <td>0.494</td>\n",
              "      <td>NaN</td>\n",
              "      <td>0.503</td>\n",
              "      <td>NaN</td>\n",
              "      <td>0.512</td>\n",
              "      <td>NaN</td>\n",
              "      <td>0.514</td>\n",
              "      <td>NaN</td>\n",
              "      <td>0.527</td>\n",
              "      <td>NaN</td>\n",
              "      <td>0.535</td>\n",
              "      <td>NaN</td>\n",
              "      <td>0.545</td>\n",
              "      <td>NaN</td>\n",
              "      <td>0.552</td>\n",
              "      <td>NaN</td>\n",
              "      <td>0.565</td>\n",
              "      <td>NaN</td>\n",
              "      <td>0.575</td>\n",
              "      <td>NaN</td>\n",
              "      <td>0.582</td>\n",
              "      <td>NaN</td>\n",
              "      <td>0.589</td>\n",
              "      <td>NaN</td>\n",
              "      <td>0.598</td>\n",
              "      <td>NaN</td>\n",
              "      <td>0.605</td>\n",
              "      <td>NaN</td>\n",
              "      <td>0.608</td>\n",
              "      <td>NaN</td>\n",
              "      <td>0.609</td>\n",
              "      <td>NaN</td>\n",
              "      <td>0.613</td>\n",
              "    </tr>\n",
              "    <tr>\n",
              "      <th>24</th>\n",
              "      <td>47</td>\n",
              "      <td>Brunei Darussalam</td>\n",
              "      <td>0.767</td>\n",
              "      <td>NaN</td>\n",
              "      <td>0.771</td>\n",
              "      <td>NaN</td>\n",
              "      <td>0.777</td>\n",
              "      <td>NaN</td>\n",
              "      <td>0.781</td>\n",
              "      <td>NaN</td>\n",
              "      <td>0.786</td>\n",
              "      <td>NaN</td>\n",
              "      <td>0.79</td>\n",
              "      <td>NaN</td>\n",
              "      <td>0.793</td>\n",
              "      <td>NaN</td>\n",
              "      <td>0.794</td>\n",
              "      <td>NaN</td>\n",
              "      <td>0.794</td>\n",
              "      <td>NaN</td>\n",
              "      <td>0.8</td>\n",
              "      <td>NaN</td>\n",
              "      <td>0.802</td>\n",
              "      <td>NaN</td>\n",
              "      <td>0.803</td>\n",
              "      <td>NaN</td>\n",
              "      <td>0.807</td>\n",
              "      <td>NaN</td>\n",
              "      <td>0.813</td>\n",
              "      <td>NaN</td>\n",
              "      <td>0.818</td>\n",
              "      <td>NaN</td>\n",
              "      <td>0.822</td>\n",
              "      <td>NaN</td>\n",
              "      <td>0.825</td>\n",
              "      <td>NaN</td>\n",
              "      <td>0.825</td>\n",
              "      <td>NaN</td>\n",
              "      <td>0.825</td>\n",
              "      <td>NaN</td>\n",
              "      <td>0.827</td>\n",
              "      <td>NaN</td>\n",
              "      <td>0.827</td>\n",
              "      <td>NaN</td>\n",
              "      <td>0.831</td>\n",
              "      <td>NaN</td>\n",
              "      <td>0.839</td>\n",
              "      <td>NaN</td>\n",
              "      <td>0.839</td>\n",
              "      <td>NaN</td>\n",
              "      <td>0.838</td>\n",
              "      <td>NaN</td>\n",
              "      <td>0.838</td>\n",
              "      <td>NaN</td>\n",
              "      <td>0.839</td>\n",
              "      <td>NaN</td>\n",
              "      <td>0.838</td>\n",
              "      <td>NaN</td>\n",
              "      <td>0.836</td>\n",
              "      <td>NaN</td>\n",
              "      <td>0.838</td>\n",
              "    </tr>\n",
              "    <tr>\n",
              "      <th>167</th>\n",
              "      <td>163</td>\n",
              "      <td>Tanzania (United Republic of)</td>\n",
              "      <td>0.368</td>\n",
              "      <td>NaN</td>\n",
              "      <td>0.369</td>\n",
              "      <td>NaN</td>\n",
              "      <td>0.367</td>\n",
              "      <td>NaN</td>\n",
              "      <td>0.367</td>\n",
              "      <td>NaN</td>\n",
              "      <td>0.366</td>\n",
              "      <td>NaN</td>\n",
              "      <td>0.367</td>\n",
              "      <td>NaN</td>\n",
              "      <td>0.369</td>\n",
              "      <td>NaN</td>\n",
              "      <td>0.37</td>\n",
              "      <td>NaN</td>\n",
              "      <td>0.377</td>\n",
              "      <td>NaN</td>\n",
              "      <td>0.383</td>\n",
              "      <td>NaN</td>\n",
              "      <td>0.39</td>\n",
              "      <td>NaN</td>\n",
              "      <td>0.397</td>\n",
              "      <td>NaN</td>\n",
              "      <td>0.407</td>\n",
              "      <td>NaN</td>\n",
              "      <td>0.416</td>\n",
              "      <td>NaN</td>\n",
              "      <td>0.426</td>\n",
              "      <td>NaN</td>\n",
              "      <td>0.437</td>\n",
              "      <td>NaN</td>\n",
              "      <td>0.447</td>\n",
              "      <td>NaN</td>\n",
              "      <td>0.456</td>\n",
              "      <td>NaN</td>\n",
              "      <td>0.465</td>\n",
              "      <td>NaN</td>\n",
              "      <td>0.474</td>\n",
              "      <td>NaN</td>\n",
              "      <td>0.481</td>\n",
              "      <td>NaN</td>\n",
              "      <td>0.487</td>\n",
              "      <td>NaN</td>\n",
              "      <td>0.496</td>\n",
              "      <td>NaN</td>\n",
              "      <td>0.497</td>\n",
              "      <td>NaN</td>\n",
              "      <td>0.504</td>\n",
              "      <td>NaN</td>\n",
              "      <td>0.514</td>\n",
              "      <td>NaN</td>\n",
              "      <td>0.52</td>\n",
              "      <td>NaN</td>\n",
              "      <td>0.523</td>\n",
              "      <td>NaN</td>\n",
              "      <td>0.524</td>\n",
              "      <td>NaN</td>\n",
              "      <td>0.529</td>\n",
              "    </tr>\n",
              "  </tbody>\n",
              "</table>\n",
              "</div>"
            ],
            "text/plain": [
              "    HDI Rank                            Country  ... Unnamed: 59   2019\n",
              "93       137   Lao People's Democratic Republic  ...         NaN  0.613\n",
              "24        47                  Brunei Darussalam  ...         NaN  0.838\n",
              "167      163      Tanzania (United Republic of)  ...         NaN  0.529\n",
              "\n",
              "[3 rows x 61 columns]"
            ]
          },
          "metadata": {
            "tags": []
          },
          "execution_count": 8
        }
      ]
    },
    {
      "cell_type": "code",
      "metadata": {
        "id": "6oeuQhh3du2r",
        "colab": {
          "base_uri": "https://localhost:8080/",
          "height": 142
        },
        "outputId": "c1b7507b-f1e2-4733-8f42-be7728ef91c7"
      },
      "source": [
        "self_iced.head(3)"
      ],
      "execution_count": null,
      "outputs": [
        {
          "output_type": "execute_result",
          "data": {
            "text/html": [
              "<div>\n",
              "<style scoped>\n",
              "    .dataframe tbody tr th:only-of-type {\n",
              "        vertical-align: middle;\n",
              "    }\n",
              "\n",
              "    .dataframe tbody tr th {\n",
              "        vertical-align: top;\n",
              "    }\n",
              "\n",
              "    .dataframe thead th {\n",
              "        text-align: right;\n",
              "    }\n",
              "</style>\n",
              "<table border=\"1\" class=\"dataframe\">\n",
              "  <thead>\n",
              "    <tr style=\"text-align: right;\">\n",
              "      <th></th>\n",
              "      <th>country</th>\n",
              "      <th>year</th>\n",
              "      <th>sex</th>\n",
              "      <th>age</th>\n",
              "      <th>suicides_no</th>\n",
              "      <th>population</th>\n",
              "    </tr>\n",
              "  </thead>\n",
              "  <tbody>\n",
              "    <tr>\n",
              "      <th>0</th>\n",
              "      <td>Albania</td>\n",
              "      <td>1985</td>\n",
              "      <td>female</td>\n",
              "      <td>15-24 years</td>\n",
              "      <td>NaN</td>\n",
              "      <td>277900.0</td>\n",
              "    </tr>\n",
              "    <tr>\n",
              "      <th>1</th>\n",
              "      <td>Albania</td>\n",
              "      <td>1985</td>\n",
              "      <td>female</td>\n",
              "      <td>25-34 years</td>\n",
              "      <td>NaN</td>\n",
              "      <td>246800.0</td>\n",
              "    </tr>\n",
              "    <tr>\n",
              "      <th>2</th>\n",
              "      <td>Albania</td>\n",
              "      <td>1985</td>\n",
              "      <td>female</td>\n",
              "      <td>35-54 years</td>\n",
              "      <td>NaN</td>\n",
              "      <td>267500.0</td>\n",
              "    </tr>\n",
              "  </tbody>\n",
              "</table>\n",
              "</div>"
            ],
            "text/plain": [
              "   country  year     sex          age  suicides_no  population\n",
              "0  Albania  1985  female  15-24 years          NaN    277900.0\n",
              "1  Albania  1985  female  25-34 years          NaN    246800.0\n",
              "2  Albania  1985  female  35-54 years          NaN    267500.0"
            ]
          },
          "metadata": {
            "tags": []
          },
          "execution_count": 9
        }
      ]
    },
    {
      "cell_type": "code",
      "metadata": {
        "id": "8Xx1sQqKeLKV",
        "colab": {
          "base_uri": "https://localhost:8080/",
          "height": 142
        },
        "outputId": "db70e7d4-2a8c-4b03-f044-cb149482b1dc"
      },
      "source": [
        "self_iced.tail(3)"
      ],
      "execution_count": null,
      "outputs": [
        {
          "output_type": "execute_result",
          "data": {
            "text/html": [
              "<div>\n",
              "<style scoped>\n",
              "    .dataframe tbody tr th:only-of-type {\n",
              "        vertical-align: middle;\n",
              "    }\n",
              "\n",
              "    .dataframe tbody tr th {\n",
              "        vertical-align: top;\n",
              "    }\n",
              "\n",
              "    .dataframe thead th {\n",
              "        text-align: right;\n",
              "    }\n",
              "</style>\n",
              "<table border=\"1\" class=\"dataframe\">\n",
              "  <thead>\n",
              "    <tr style=\"text-align: right;\">\n",
              "      <th></th>\n",
              "      <th>country</th>\n",
              "      <th>year</th>\n",
              "      <th>sex</th>\n",
              "      <th>age</th>\n",
              "      <th>suicides_no</th>\n",
              "      <th>population</th>\n",
              "    </tr>\n",
              "  </thead>\n",
              "  <tbody>\n",
              "    <tr>\n",
              "      <th>43773</th>\n",
              "      <td>Zimbabwe</td>\n",
              "      <td>1990</td>\n",
              "      <td>male</td>\n",
              "      <td>5-14 years</td>\n",
              "      <td>6.0</td>\n",
              "      <td>NaN</td>\n",
              "    </tr>\n",
              "    <tr>\n",
              "      <th>43774</th>\n",
              "      <td>Zimbabwe</td>\n",
              "      <td>1990</td>\n",
              "      <td>male</td>\n",
              "      <td>55-74 years</td>\n",
              "      <td>74.0</td>\n",
              "      <td>NaN</td>\n",
              "    </tr>\n",
              "    <tr>\n",
              "      <th>43775</th>\n",
              "      <td>Zimbabwe</td>\n",
              "      <td>1990</td>\n",
              "      <td>male</td>\n",
              "      <td>75+ years</td>\n",
              "      <td>13.0</td>\n",
              "      <td>NaN</td>\n",
              "    </tr>\n",
              "  </tbody>\n",
              "</table>\n",
              "</div>"
            ],
            "text/plain": [
              "        country  year   sex          age  suicides_no  population\n",
              "43773  Zimbabwe  1990  male   5-14 years          6.0         NaN\n",
              "43774  Zimbabwe  1990  male  55-74 years         74.0         NaN\n",
              "43775  Zimbabwe  1990  male    75+ years         13.0         NaN"
            ]
          },
          "metadata": {
            "tags": []
          },
          "execution_count": 10
        }
      ]
    },
    {
      "cell_type": "code",
      "metadata": {
        "id": "h1CABVQneOwe",
        "colab": {
          "base_uri": "https://localhost:8080/",
          "height": 111
        },
        "outputId": "efeeebda-2684-411e-ce16-c821fe9d3292"
      },
      "source": [
        "self_iced.sample(2)"
      ],
      "execution_count": null,
      "outputs": [
        {
          "output_type": "execute_result",
          "data": {
            "text/html": [
              "<div>\n",
              "<style scoped>\n",
              "    .dataframe tbody tr th:only-of-type {\n",
              "        vertical-align: middle;\n",
              "    }\n",
              "\n",
              "    .dataframe tbody tr th {\n",
              "        vertical-align: top;\n",
              "    }\n",
              "\n",
              "    .dataframe thead th {\n",
              "        text-align: right;\n",
              "    }\n",
              "</style>\n",
              "<table border=\"1\" class=\"dataframe\">\n",
              "  <thead>\n",
              "    <tr style=\"text-align: right;\">\n",
              "      <th></th>\n",
              "      <th>country</th>\n",
              "      <th>year</th>\n",
              "      <th>sex</th>\n",
              "      <th>age</th>\n",
              "      <th>suicides_no</th>\n",
              "      <th>population</th>\n",
              "    </tr>\n",
              "  </thead>\n",
              "  <tbody>\n",
              "    <tr>\n",
              "      <th>9851</th>\n",
              "      <td>Croatia</td>\n",
              "      <td>1994</td>\n",
              "      <td>male</td>\n",
              "      <td>75+ years</td>\n",
              "      <td>76.0</td>\n",
              "      <td>72400.0</td>\n",
              "    </tr>\n",
              "    <tr>\n",
              "      <th>1497</th>\n",
              "      <td>Argentina</td>\n",
              "      <td>2015</td>\n",
              "      <td>male</td>\n",
              "      <td>5-14 years</td>\n",
              "      <td>39.0</td>\n",
              "      <td>3672155.0</td>\n",
              "    </tr>\n",
              "  </tbody>\n",
              "</table>\n",
              "</div>"
            ],
            "text/plain": [
              "        country  year   sex         age  suicides_no  population\n",
              "9851    Croatia  1994  male   75+ years         76.0     72400.0\n",
              "1497  Argentina  2015  male  5-14 years         39.0   3672155.0"
            ]
          },
          "metadata": {
            "tags": []
          },
          "execution_count": 11
        }
      ]
    },
    {
      "cell_type": "code",
      "metadata": {
        "colab": {
          "base_uri": "https://localhost:8080/",
          "height": 204
        },
        "id": "Cf44Uhow0C_r",
        "outputId": "64fa2f3a-991d-47e2-ca92-841bd9376859"
      },
      "source": [
        "cont.head()"
      ],
      "execution_count": null,
      "outputs": [
        {
          "output_type": "execute_result",
          "data": {
            "text/html": [
              "<div>\n",
              "<style scoped>\n",
              "    .dataframe tbody tr th:only-of-type {\n",
              "        vertical-align: middle;\n",
              "    }\n",
              "\n",
              "    .dataframe tbody tr th {\n",
              "        vertical-align: top;\n",
              "    }\n",
              "\n",
              "    .dataframe thead th {\n",
              "        text-align: right;\n",
              "    }\n",
              "</style>\n",
              "<table border=\"1\" class=\"dataframe\">\n",
              "  <thead>\n",
              "    <tr style=\"text-align: right;\">\n",
              "      <th></th>\n",
              "      <th>country</th>\n",
              "      <th>code_2</th>\n",
              "      <th>code_3</th>\n",
              "      <th>country_code</th>\n",
              "      <th>iso_3166_2</th>\n",
              "      <th>continent</th>\n",
              "      <th>sub_region</th>\n",
              "      <th>region_code</th>\n",
              "      <th>sub_region_code</th>\n",
              "    </tr>\n",
              "  </thead>\n",
              "  <tbody>\n",
              "    <tr>\n",
              "      <th>0</th>\n",
              "      <td>Afghanistan</td>\n",
              "      <td>AF</td>\n",
              "      <td>AFG</td>\n",
              "      <td>4</td>\n",
              "      <td>ISO 3166-2:AF</td>\n",
              "      <td>Asia</td>\n",
              "      <td>Southern Asia</td>\n",
              "      <td>142.0</td>\n",
              "      <td>34.0</td>\n",
              "    </tr>\n",
              "    <tr>\n",
              "      <th>1</th>\n",
              "      <td>Åland Islands</td>\n",
              "      <td>AX</td>\n",
              "      <td>ALA</td>\n",
              "      <td>248</td>\n",
              "      <td>ISO 3166-2:AX</td>\n",
              "      <td>Europe</td>\n",
              "      <td>Northern Europe</td>\n",
              "      <td>150.0</td>\n",
              "      <td>154.0</td>\n",
              "    </tr>\n",
              "    <tr>\n",
              "      <th>2</th>\n",
              "      <td>Albania</td>\n",
              "      <td>AL</td>\n",
              "      <td>ALB</td>\n",
              "      <td>8</td>\n",
              "      <td>ISO 3166-2:AL</td>\n",
              "      <td>Europe</td>\n",
              "      <td>Southern Europe</td>\n",
              "      <td>150.0</td>\n",
              "      <td>39.0</td>\n",
              "    </tr>\n",
              "    <tr>\n",
              "      <th>3</th>\n",
              "      <td>Algeria</td>\n",
              "      <td>DZ</td>\n",
              "      <td>DZA</td>\n",
              "      <td>12</td>\n",
              "      <td>ISO 3166-2:DZ</td>\n",
              "      <td>Africa</td>\n",
              "      <td>Northern Africa</td>\n",
              "      <td>2.0</td>\n",
              "      <td>15.0</td>\n",
              "    </tr>\n",
              "    <tr>\n",
              "      <th>4</th>\n",
              "      <td>American Samoa</td>\n",
              "      <td>AS</td>\n",
              "      <td>ASM</td>\n",
              "      <td>16</td>\n",
              "      <td>ISO 3166-2:AS</td>\n",
              "      <td>Oceania</td>\n",
              "      <td>Polynesia</td>\n",
              "      <td>9.0</td>\n",
              "      <td>61.0</td>\n",
              "    </tr>\n",
              "  </tbody>\n",
              "</table>\n",
              "</div>"
            ],
            "text/plain": [
              "          country code_2 code_3  ...       sub_region region_code sub_region_code\n",
              "0     Afghanistan     AF    AFG  ...    Southern Asia       142.0            34.0\n",
              "1   Åland Islands     AX    ALA  ...  Northern Europe       150.0           154.0\n",
              "2         Albania     AL    ALB  ...  Southern Europe       150.0            39.0\n",
              "3         Algeria     DZ    DZA  ...  Northern Africa         2.0            15.0\n",
              "4  American Samoa     AS    ASM  ...        Polynesia         9.0            61.0\n",
              "\n",
              "[5 rows x 9 columns]"
            ]
          },
          "metadata": {
            "tags": []
          },
          "execution_count": 12
        }
      ]
    },
    {
      "cell_type": "code",
      "metadata": {
        "colab": {
          "base_uri": "https://localhost:8080/",
          "height": 204
        },
        "id": "y19b7B6K0CyJ",
        "outputId": "a06bc94d-a078-497d-9ddb-e72938629efe"
      },
      "source": [
        "cont.tail()"
      ],
      "execution_count": null,
      "outputs": [
        {
          "output_type": "execute_result",
          "data": {
            "text/html": [
              "<div>\n",
              "<style scoped>\n",
              "    .dataframe tbody tr th:only-of-type {\n",
              "        vertical-align: middle;\n",
              "    }\n",
              "\n",
              "    .dataframe tbody tr th {\n",
              "        vertical-align: top;\n",
              "    }\n",
              "\n",
              "    .dataframe thead th {\n",
              "        text-align: right;\n",
              "    }\n",
              "</style>\n",
              "<table border=\"1\" class=\"dataframe\">\n",
              "  <thead>\n",
              "    <tr style=\"text-align: right;\">\n",
              "      <th></th>\n",
              "      <th>country</th>\n",
              "      <th>code_2</th>\n",
              "      <th>code_3</th>\n",
              "      <th>country_code</th>\n",
              "      <th>iso_3166_2</th>\n",
              "      <th>continent</th>\n",
              "      <th>sub_region</th>\n",
              "      <th>region_code</th>\n",
              "      <th>sub_region_code</th>\n",
              "    </tr>\n",
              "  </thead>\n",
              "  <tbody>\n",
              "    <tr>\n",
              "      <th>244</th>\n",
              "      <td>Wallis and Futuna</td>\n",
              "      <td>WF</td>\n",
              "      <td>WLF</td>\n",
              "      <td>876</td>\n",
              "      <td>ISO 3166-2:WF</td>\n",
              "      <td>Oceania</td>\n",
              "      <td>Polynesia</td>\n",
              "      <td>9.0</td>\n",
              "      <td>61.0</td>\n",
              "    </tr>\n",
              "    <tr>\n",
              "      <th>245</th>\n",
              "      <td>Western Sahara</td>\n",
              "      <td>EH</td>\n",
              "      <td>ESH</td>\n",
              "      <td>732</td>\n",
              "      <td>ISO 3166-2:EH</td>\n",
              "      <td>Africa</td>\n",
              "      <td>Northern Africa</td>\n",
              "      <td>2.0</td>\n",
              "      <td>15.0</td>\n",
              "    </tr>\n",
              "    <tr>\n",
              "      <th>246</th>\n",
              "      <td>Yemen</td>\n",
              "      <td>YE</td>\n",
              "      <td>YEM</td>\n",
              "      <td>887</td>\n",
              "      <td>ISO 3166-2:YE</td>\n",
              "      <td>Asia</td>\n",
              "      <td>Western Asia</td>\n",
              "      <td>142.0</td>\n",
              "      <td>145.0</td>\n",
              "    </tr>\n",
              "    <tr>\n",
              "      <th>247</th>\n",
              "      <td>Zambia</td>\n",
              "      <td>ZM</td>\n",
              "      <td>ZMB</td>\n",
              "      <td>894</td>\n",
              "      <td>ISO 3166-2:ZM</td>\n",
              "      <td>Africa</td>\n",
              "      <td>Eastern Africa</td>\n",
              "      <td>2.0</td>\n",
              "      <td>14.0</td>\n",
              "    </tr>\n",
              "    <tr>\n",
              "      <th>248</th>\n",
              "      <td>Zimbabwe</td>\n",
              "      <td>ZW</td>\n",
              "      <td>ZWE</td>\n",
              "      <td>716</td>\n",
              "      <td>ISO 3166-2:ZW</td>\n",
              "      <td>Africa</td>\n",
              "      <td>Eastern Africa</td>\n",
              "      <td>2.0</td>\n",
              "      <td>14.0</td>\n",
              "    </tr>\n",
              "  </tbody>\n",
              "</table>\n",
              "</div>"
            ],
            "text/plain": [
              "               country code_2  ... region_code  sub_region_code\n",
              "244  Wallis and Futuna     WF  ...         9.0             61.0\n",
              "245     Western Sahara     EH  ...         2.0             15.0\n",
              "246              Yemen     YE  ...       142.0            145.0\n",
              "247             Zambia     ZM  ...         2.0             14.0\n",
              "248           Zimbabwe     ZW  ...         2.0             14.0\n",
              "\n",
              "[5 rows x 9 columns]"
            ]
          },
          "metadata": {
            "tags": []
          },
          "execution_count": 13
        }
      ]
    },
    {
      "cell_type": "code",
      "metadata": {
        "colab": {
          "base_uri": "https://localhost:8080/",
          "height": 289
        },
        "id": "QsquOMizz-eE",
        "outputId": "eadea56b-759c-4632-fcfe-9c7c18fb02f1"
      },
      "source": [
        "cont.sample(5)"
      ],
      "execution_count": null,
      "outputs": [
        {
          "output_type": "execute_result",
          "data": {
            "text/html": [
              "<div>\n",
              "<style scoped>\n",
              "    .dataframe tbody tr th:only-of-type {\n",
              "        vertical-align: middle;\n",
              "    }\n",
              "\n",
              "    .dataframe tbody tr th {\n",
              "        vertical-align: top;\n",
              "    }\n",
              "\n",
              "    .dataframe thead th {\n",
              "        text-align: right;\n",
              "    }\n",
              "</style>\n",
              "<table border=\"1\" class=\"dataframe\">\n",
              "  <thead>\n",
              "    <tr style=\"text-align: right;\">\n",
              "      <th></th>\n",
              "      <th>country</th>\n",
              "      <th>code_2</th>\n",
              "      <th>code_3</th>\n",
              "      <th>country_code</th>\n",
              "      <th>iso_3166_2</th>\n",
              "      <th>continent</th>\n",
              "      <th>sub_region</th>\n",
              "      <th>region_code</th>\n",
              "      <th>sub_region_code</th>\n",
              "    </tr>\n",
              "  </thead>\n",
              "  <tbody>\n",
              "    <tr>\n",
              "      <th>99</th>\n",
              "      <td>Hong Kong</td>\n",
              "      <td>HK</td>\n",
              "      <td>HKG</td>\n",
              "      <td>344</td>\n",
              "      <td>ISO 3166-2:HK</td>\n",
              "      <td>Asia</td>\n",
              "      <td>Eastern Asia</td>\n",
              "      <td>142.0</td>\n",
              "      <td>30.0</td>\n",
              "    </tr>\n",
              "    <tr>\n",
              "      <th>157</th>\n",
              "      <td>New Caledonia</td>\n",
              "      <td>NC</td>\n",
              "      <td>NCL</td>\n",
              "      <td>540</td>\n",
              "      <td>ISO 3166-2:NC</td>\n",
              "      <td>Oceania</td>\n",
              "      <td>Melanesia</td>\n",
              "      <td>9.0</td>\n",
              "      <td>54.0</td>\n",
              "    </tr>\n",
              "    <tr>\n",
              "      <th>189</th>\n",
              "      <td>Saint Pierre and Miquelon</td>\n",
              "      <td>PM</td>\n",
              "      <td>SPM</td>\n",
              "      <td>666</td>\n",
              "      <td>ISO 3166-2:PM</td>\n",
              "      <td>Americas</td>\n",
              "      <td>Northern America</td>\n",
              "      <td>19.0</td>\n",
              "      <td>21.0</td>\n",
              "    </tr>\n",
              "    <tr>\n",
              "      <th>135</th>\n",
              "      <td>Maldives</td>\n",
              "      <td>MV</td>\n",
              "      <td>MDV</td>\n",
              "      <td>462</td>\n",
              "      <td>ISO 3166-2:MV</td>\n",
              "      <td>Asia</td>\n",
              "      <td>Southern Asia</td>\n",
              "      <td>142.0</td>\n",
              "      <td>34.0</td>\n",
              "    </tr>\n",
              "    <tr>\n",
              "      <th>171</th>\n",
              "      <td>Papua New Guinea</td>\n",
              "      <td>PG</td>\n",
              "      <td>PNG</td>\n",
              "      <td>598</td>\n",
              "      <td>ISO 3166-2:PG</td>\n",
              "      <td>Oceania</td>\n",
              "      <td>Melanesia</td>\n",
              "      <td>9.0</td>\n",
              "      <td>54.0</td>\n",
              "    </tr>\n",
              "  </tbody>\n",
              "</table>\n",
              "</div>"
            ],
            "text/plain": [
              "                       country code_2  ... region_code  sub_region_code\n",
              "99                   Hong Kong     HK  ...       142.0             30.0\n",
              "157              New Caledonia     NC  ...         9.0             54.0\n",
              "189  Saint Pierre and Miquelon     PM  ...        19.0             21.0\n",
              "135                   Maldives     MV  ...       142.0             34.0\n",
              "171           Papua New Guinea     PG  ...         9.0             54.0\n",
              "\n",
              "[5 rows x 9 columns]"
            ]
          },
          "metadata": {
            "tags": []
          },
          "execution_count": 14
        }
      ]
    },
    {
      "cell_type": "code",
      "metadata": {
        "colab": {
          "base_uri": "https://localhost:8080/",
          "height": 284
        },
        "id": "LrzBjsPrcBIW",
        "outputId": "16b8c2b7-79c3-49fd-efed-894b5c5a1e9d"
      },
      "source": [
        "gdp_pc.head(2)"
      ],
      "execution_count": null,
      "outputs": [
        {
          "output_type": "execute_result",
          "data": {
            "text/html": [
              "<div>\n",
              "<style scoped>\n",
              "    .dataframe tbody tr th:only-of-type {\n",
              "        vertical-align: middle;\n",
              "    }\n",
              "\n",
              "    .dataframe tbody tr th {\n",
              "        vertical-align: top;\n",
              "    }\n",
              "\n",
              "    .dataframe thead th {\n",
              "        text-align: right;\n",
              "    }\n",
              "</style>\n",
              "<table border=\"1\" class=\"dataframe\">\n",
              "  <thead>\n",
              "    <tr style=\"text-align: right;\">\n",
              "      <th></th>\n",
              "      <th>country</th>\n",
              "      <th>Country Code</th>\n",
              "      <th>Series Name</th>\n",
              "      <th>Series Code</th>\n",
              "      <th>1979 [YR1979]</th>\n",
              "      <th>1980 [YR1980]</th>\n",
              "      <th>1981 [YR1981]</th>\n",
              "      <th>1982 [YR1982]</th>\n",
              "      <th>1983 [YR1983]</th>\n",
              "      <th>1984 [YR1984]</th>\n",
              "      <th>1985 [YR1985]</th>\n",
              "      <th>1986 [YR1986]</th>\n",
              "      <th>1987 [YR1987]</th>\n",
              "      <th>1988 [YR1988]</th>\n",
              "      <th>1989 [YR1989]</th>\n",
              "      <th>1990 [YR1990]</th>\n",
              "      <th>1991 [YR1991]</th>\n",
              "      <th>1992 [YR1992]</th>\n",
              "      <th>1993 [YR1993]</th>\n",
              "      <th>1994 [YR1994]</th>\n",
              "      <th>1995 [YR1995]</th>\n",
              "      <th>1996 [YR1996]</th>\n",
              "      <th>1997 [YR1997]</th>\n",
              "      <th>1998 [YR1998]</th>\n",
              "      <th>1999 [YR1999]</th>\n",
              "      <th>2000 [YR2000]</th>\n",
              "      <th>2001 [YR2001]</th>\n",
              "      <th>2002 [YR2002]</th>\n",
              "      <th>2003 [YR2003]</th>\n",
              "      <th>2004 [YR2004]</th>\n",
              "      <th>2005 [YR2005]</th>\n",
              "      <th>2006 [YR2006]</th>\n",
              "      <th>2007 [YR2007]</th>\n",
              "      <th>2008 [YR2008]</th>\n",
              "      <th>2009 [YR2009]</th>\n",
              "      <th>2010 [YR2010]</th>\n",
              "      <th>2011 [YR2011]</th>\n",
              "      <th>2012 [YR2012]</th>\n",
              "      <th>2013 [YR2013]</th>\n",
              "      <th>2014 [YR2014]</th>\n",
              "      <th>2015 [YR2015]</th>\n",
              "      <th>2016 [YR2016]</th>\n",
              "    </tr>\n",
              "  </thead>\n",
              "  <tbody>\n",
              "    <tr>\n",
              "      <th>0</th>\n",
              "      <td>Afghanistan</td>\n",
              "      <td>AFG</td>\n",
              "      <td>GDP per capita (current US$)</td>\n",
              "      <td>NY.GDP.PCAP.CD</td>\n",
              "      <td>275.738</td>\n",
              "      <td>272.655</td>\n",
              "      <td>264.111</td>\n",
              "      <td>..</td>\n",
              "      <td>..</td>\n",
              "      <td>..</td>\n",
              "      <td>..</td>\n",
              "      <td>..</td>\n",
              "      <td>..</td>\n",
              "      <td>..</td>\n",
              "      <td>..</td>\n",
              "      <td>..</td>\n",
              "      <td>..</td>\n",
              "      <td>..</td>\n",
              "      <td>..</td>\n",
              "      <td>..</td>\n",
              "      <td>..</td>\n",
              "      <td>..</td>\n",
              "      <td>..</td>\n",
              "      <td>..</td>\n",
              "      <td>..</td>\n",
              "      <td>..</td>\n",
              "      <td>..</td>\n",
              "      <td>179.427</td>\n",
              "      <td>190.684</td>\n",
              "      <td>211.382</td>\n",
              "      <td>242.031</td>\n",
              "      <td>263.734</td>\n",
              "      <td>359.693</td>\n",
              "      <td>364.661</td>\n",
              "      <td>438.076</td>\n",
              "      <td>543.303</td>\n",
              "      <td>591.163</td>\n",
              "      <td>641.871</td>\n",
              "      <td>637.166</td>\n",
              "      <td>613.857</td>\n",
              "      <td>578.466</td>\n",
              "      <td>509.219</td>\n",
              "    </tr>\n",
              "    <tr>\n",
              "      <th>1</th>\n",
              "      <td>Albania</td>\n",
              "      <td>ALB</td>\n",
              "      <td>GDP per capita (current US$)</td>\n",
              "      <td>NY.GDP.PCAP.CD</td>\n",
              "      <td>..</td>\n",
              "      <td>..</td>\n",
              "      <td>..</td>\n",
              "      <td>..</td>\n",
              "      <td>..</td>\n",
              "      <td>639.485</td>\n",
              "      <td>639.866</td>\n",
              "      <td>693.873</td>\n",
              "      <td>674.793</td>\n",
              "      <td>652.774</td>\n",
              "      <td>697.996</td>\n",
              "      <td>617.23</td>\n",
              "      <td>336.587</td>\n",
              "      <td>200.852</td>\n",
              "      <td>367.279</td>\n",
              "      <td>586.416</td>\n",
              "      <td>750.604</td>\n",
              "      <td>1009.98</td>\n",
              "      <td>717.381</td>\n",
              "      <td>813.79</td>\n",
              "      <td>1033.24</td>\n",
              "      <td>1126.68</td>\n",
              "      <td>1281.66</td>\n",
              "      <td>1425.12</td>\n",
              "      <td>1846.12</td>\n",
              "      <td>2373.58</td>\n",
              "      <td>2673.79</td>\n",
              "      <td>2972.74</td>\n",
              "      <td>3595.04</td>\n",
              "      <td>4370.54</td>\n",
              "      <td>4114.14</td>\n",
              "      <td>4094.35</td>\n",
              "      <td>4437.14</td>\n",
              "      <td>4247.63</td>\n",
              "      <td>4413.06</td>\n",
              "      <td>4578.63</td>\n",
              "      <td>3952.8</td>\n",
              "      <td>4124.06</td>\n",
              "    </tr>\n",
              "  </tbody>\n",
              "</table>\n",
              "</div>"
            ],
            "text/plain": [
              "      country  Country Code  ... 2015 [YR2015] 2016 [YR2016]\n",
              "0  Afghanistan          AFG  ...       578.466       509.219\n",
              "1      Albania          ALB  ...        3952.8       4124.06\n",
              "\n",
              "[2 rows x 42 columns]"
            ]
          },
          "metadata": {
            "tags": []
          },
          "execution_count": 15
        }
      ]
    },
    {
      "cell_type": "code",
      "metadata": {
        "colab": {
          "base_uri": "https://localhost:8080/",
          "height": 250
        },
        "id": "qxjYBq8ocEpQ",
        "outputId": "393252ba-26b7-479e-fb5a-ca98f79aab9c"
      },
      "source": [
        "gdp_pc.tail(2)"
      ],
      "execution_count": null,
      "outputs": [
        {
          "output_type": "execute_result",
          "data": {
            "text/html": [
              "<div>\n",
              "<style scoped>\n",
              "    .dataframe tbody tr th:only-of-type {\n",
              "        vertical-align: middle;\n",
              "    }\n",
              "\n",
              "    .dataframe tbody tr th {\n",
              "        vertical-align: top;\n",
              "    }\n",
              "\n",
              "    .dataframe thead th {\n",
              "        text-align: right;\n",
              "    }\n",
              "</style>\n",
              "<table border=\"1\" class=\"dataframe\">\n",
              "  <thead>\n",
              "    <tr style=\"text-align: right;\">\n",
              "      <th></th>\n",
              "      <th>country</th>\n",
              "      <th>Country Code</th>\n",
              "      <th>Series Name</th>\n",
              "      <th>Series Code</th>\n",
              "      <th>1979 [YR1979]</th>\n",
              "      <th>1980 [YR1980]</th>\n",
              "      <th>1981 [YR1981]</th>\n",
              "      <th>1982 [YR1982]</th>\n",
              "      <th>1983 [YR1983]</th>\n",
              "      <th>1984 [YR1984]</th>\n",
              "      <th>1985 [YR1985]</th>\n",
              "      <th>1986 [YR1986]</th>\n",
              "      <th>1987 [YR1987]</th>\n",
              "      <th>1988 [YR1988]</th>\n",
              "      <th>1989 [YR1989]</th>\n",
              "      <th>1990 [YR1990]</th>\n",
              "      <th>1991 [YR1991]</th>\n",
              "      <th>1992 [YR1992]</th>\n",
              "      <th>1993 [YR1993]</th>\n",
              "      <th>1994 [YR1994]</th>\n",
              "      <th>1995 [YR1995]</th>\n",
              "      <th>1996 [YR1996]</th>\n",
              "      <th>1997 [YR1997]</th>\n",
              "      <th>1998 [YR1998]</th>\n",
              "      <th>1999 [YR1999]</th>\n",
              "      <th>2000 [YR2000]</th>\n",
              "      <th>2001 [YR2001]</th>\n",
              "      <th>2002 [YR2002]</th>\n",
              "      <th>2003 [YR2003]</th>\n",
              "      <th>2004 [YR2004]</th>\n",
              "      <th>2005 [YR2005]</th>\n",
              "      <th>2006 [YR2006]</th>\n",
              "      <th>2007 [YR2007]</th>\n",
              "      <th>2008 [YR2008]</th>\n",
              "      <th>2009 [YR2009]</th>\n",
              "      <th>2010 [YR2010]</th>\n",
              "      <th>2011 [YR2011]</th>\n",
              "      <th>2012 [YR2012]</th>\n",
              "      <th>2013 [YR2013]</th>\n",
              "      <th>2014 [YR2014]</th>\n",
              "      <th>2015 [YR2015]</th>\n",
              "      <th>2016 [YR2016]</th>\n",
              "    </tr>\n",
              "  </thead>\n",
              "  <tbody>\n",
              "    <tr>\n",
              "      <th>267</th>\n",
              "      <td>Data from database: World Development Indicators</td>\n",
              "      <td>NaN</td>\n",
              "      <td>NaN</td>\n",
              "      <td>NaN</td>\n",
              "      <td>NaN</td>\n",
              "      <td>NaN</td>\n",
              "      <td>NaN</td>\n",
              "      <td>NaN</td>\n",
              "      <td>NaN</td>\n",
              "      <td>NaN</td>\n",
              "      <td>NaN</td>\n",
              "      <td>NaN</td>\n",
              "      <td>NaN</td>\n",
              "      <td>NaN</td>\n",
              "      <td>NaN</td>\n",
              "      <td>NaN</td>\n",
              "      <td>NaN</td>\n",
              "      <td>NaN</td>\n",
              "      <td>NaN</td>\n",
              "      <td>NaN</td>\n",
              "      <td>NaN</td>\n",
              "      <td>NaN</td>\n",
              "      <td>NaN</td>\n",
              "      <td>NaN</td>\n",
              "      <td>NaN</td>\n",
              "      <td>NaN</td>\n",
              "      <td>NaN</td>\n",
              "      <td>NaN</td>\n",
              "      <td>NaN</td>\n",
              "      <td>NaN</td>\n",
              "      <td>NaN</td>\n",
              "      <td>NaN</td>\n",
              "      <td>NaN</td>\n",
              "      <td>NaN</td>\n",
              "      <td>NaN</td>\n",
              "      <td>NaN</td>\n",
              "      <td>NaN</td>\n",
              "      <td>NaN</td>\n",
              "      <td>NaN</td>\n",
              "      <td>NaN</td>\n",
              "      <td>NaN</td>\n",
              "      <td>NaN</td>\n",
              "    </tr>\n",
              "    <tr>\n",
              "      <th>268</th>\n",
              "      <td>Last Updated: 03/19/2021</td>\n",
              "      <td>NaN</td>\n",
              "      <td>NaN</td>\n",
              "      <td>NaN</td>\n",
              "      <td>NaN</td>\n",
              "      <td>NaN</td>\n",
              "      <td>NaN</td>\n",
              "      <td>NaN</td>\n",
              "      <td>NaN</td>\n",
              "      <td>NaN</td>\n",
              "      <td>NaN</td>\n",
              "      <td>NaN</td>\n",
              "      <td>NaN</td>\n",
              "      <td>NaN</td>\n",
              "      <td>NaN</td>\n",
              "      <td>NaN</td>\n",
              "      <td>NaN</td>\n",
              "      <td>NaN</td>\n",
              "      <td>NaN</td>\n",
              "      <td>NaN</td>\n",
              "      <td>NaN</td>\n",
              "      <td>NaN</td>\n",
              "      <td>NaN</td>\n",
              "      <td>NaN</td>\n",
              "      <td>NaN</td>\n",
              "      <td>NaN</td>\n",
              "      <td>NaN</td>\n",
              "      <td>NaN</td>\n",
              "      <td>NaN</td>\n",
              "      <td>NaN</td>\n",
              "      <td>NaN</td>\n",
              "      <td>NaN</td>\n",
              "      <td>NaN</td>\n",
              "      <td>NaN</td>\n",
              "      <td>NaN</td>\n",
              "      <td>NaN</td>\n",
              "      <td>NaN</td>\n",
              "      <td>NaN</td>\n",
              "      <td>NaN</td>\n",
              "      <td>NaN</td>\n",
              "      <td>NaN</td>\n",
              "      <td>NaN</td>\n",
              "    </tr>\n",
              "  </tbody>\n",
              "</table>\n",
              "</div>"
            ],
            "text/plain": [
              "                                             country   ... 2016 [YR2016]\n",
              "267  Data from database: World Development Indicators  ...           NaN\n",
              "268                          Last Updated: 03/19/2021  ...           NaN\n",
              "\n",
              "[2 rows x 42 columns]"
            ]
          },
          "metadata": {
            "tags": []
          },
          "execution_count": 16
        }
      ]
    },
    {
      "cell_type": "code",
      "metadata": {
        "colab": {
          "base_uri": "https://localhost:8080/",
          "height": 284
        },
        "id": "yjbj5PK8cIFV",
        "outputId": "aa796d34-1601-48ee-b92d-e74b0d95f89b"
      },
      "source": [
        "gdp_pc.sample(2)"
      ],
      "execution_count": null,
      "outputs": [
        {
          "output_type": "execute_result",
          "data": {
            "text/html": [
              "<div>\n",
              "<style scoped>\n",
              "    .dataframe tbody tr th:only-of-type {\n",
              "        vertical-align: middle;\n",
              "    }\n",
              "\n",
              "    .dataframe tbody tr th {\n",
              "        vertical-align: top;\n",
              "    }\n",
              "\n",
              "    .dataframe thead th {\n",
              "        text-align: right;\n",
              "    }\n",
              "</style>\n",
              "<table border=\"1\" class=\"dataframe\">\n",
              "  <thead>\n",
              "    <tr style=\"text-align: right;\">\n",
              "      <th></th>\n",
              "      <th>country</th>\n",
              "      <th>Country Code</th>\n",
              "      <th>Series Name</th>\n",
              "      <th>Series Code</th>\n",
              "      <th>1979 [YR1979]</th>\n",
              "      <th>1980 [YR1980]</th>\n",
              "      <th>1981 [YR1981]</th>\n",
              "      <th>1982 [YR1982]</th>\n",
              "      <th>1983 [YR1983]</th>\n",
              "      <th>1984 [YR1984]</th>\n",
              "      <th>1985 [YR1985]</th>\n",
              "      <th>1986 [YR1986]</th>\n",
              "      <th>1987 [YR1987]</th>\n",
              "      <th>1988 [YR1988]</th>\n",
              "      <th>1989 [YR1989]</th>\n",
              "      <th>1990 [YR1990]</th>\n",
              "      <th>1991 [YR1991]</th>\n",
              "      <th>1992 [YR1992]</th>\n",
              "      <th>1993 [YR1993]</th>\n",
              "      <th>1994 [YR1994]</th>\n",
              "      <th>1995 [YR1995]</th>\n",
              "      <th>1996 [YR1996]</th>\n",
              "      <th>1997 [YR1997]</th>\n",
              "      <th>1998 [YR1998]</th>\n",
              "      <th>1999 [YR1999]</th>\n",
              "      <th>2000 [YR2000]</th>\n",
              "      <th>2001 [YR2001]</th>\n",
              "      <th>2002 [YR2002]</th>\n",
              "      <th>2003 [YR2003]</th>\n",
              "      <th>2004 [YR2004]</th>\n",
              "      <th>2005 [YR2005]</th>\n",
              "      <th>2006 [YR2006]</th>\n",
              "      <th>2007 [YR2007]</th>\n",
              "      <th>2008 [YR2008]</th>\n",
              "      <th>2009 [YR2009]</th>\n",
              "      <th>2010 [YR2010]</th>\n",
              "      <th>2011 [YR2011]</th>\n",
              "      <th>2012 [YR2012]</th>\n",
              "      <th>2013 [YR2013]</th>\n",
              "      <th>2014 [YR2014]</th>\n",
              "      <th>2015 [YR2015]</th>\n",
              "      <th>2016 [YR2016]</th>\n",
              "    </tr>\n",
              "  </thead>\n",
              "  <tbody>\n",
              "    <tr>\n",
              "      <th>15</th>\n",
              "      <td>Bangladesh</td>\n",
              "      <td>BGD</td>\n",
              "      <td>GDP per capita (current US$)</td>\n",
              "      <td>NY.GDP.PCAP.CD</td>\n",
              "      <td>200.77</td>\n",
              "      <td>227.752</td>\n",
              "      <td>247.65</td>\n",
              "      <td>220.719</td>\n",
              "      <td>204.418</td>\n",
              "      <td>213.997</td>\n",
              "      <td>245.454</td>\n",
              "      <td>233.658</td>\n",
              "      <td>253.974</td>\n",
              "      <td>270.7</td>\n",
              "      <td>285.829</td>\n",
              "      <td>306.269</td>\n",
              "      <td>293.16</td>\n",
              "      <td>293.645</td>\n",
              "      <td>300.556</td>\n",
              "      <td>299.533</td>\n",
              "      <td>329.424</td>\n",
              "      <td>394.717</td>\n",
              "      <td>401.499</td>\n",
              "      <td>407.429</td>\n",
              "      <td>409.543</td>\n",
              "      <td>418.069</td>\n",
              "      <td>415.034</td>\n",
              "      <td>413.08</td>\n",
              "      <td>446.311</td>\n",
              "      <td>475.292</td>\n",
              "      <td>499.462</td>\n",
              "      <td>509.64</td>\n",
              "      <td>558.052</td>\n",
              "      <td>634.987</td>\n",
              "      <td>702.264</td>\n",
              "      <td>781.154</td>\n",
              "      <td>861.758</td>\n",
              "      <td>883.105</td>\n",
              "      <td>981.84</td>\n",
              "      <td>1118.85</td>\n",
              "      <td>1248.45</td>\n",
              "      <td>1401.62</td>\n",
              "    </tr>\n",
              "    <tr>\n",
              "      <th>181</th>\n",
              "      <td>St. Kitts and Nevis</td>\n",
              "      <td>KNA</td>\n",
              "      <td>GDP per capita (current US$)</td>\n",
              "      <td>NY.GDP.PCAP.CD</td>\n",
              "      <td>1354.15</td>\n",
              "      <td>1584.67</td>\n",
              "      <td>1882.76</td>\n",
              "      <td>2013.02</td>\n",
              "      <td>2045.2</td>\n",
              "      <td>2336.69</td>\n",
              "      <td>2650.99</td>\n",
              "      <td>3150.63</td>\n",
              "      <td>3600.01</td>\n",
              "      <td>4250.06</td>\n",
              "      <td>4770.74</td>\n",
              "      <td>5396.4</td>\n",
              "      <td>5461.5</td>\n",
              "      <td>5950.63</td>\n",
              "      <td>6411.01</td>\n",
              "      <td>7092.11</td>\n",
              "      <td>7450.27</td>\n",
              "      <td>7862.7</td>\n",
              "      <td>8741.66</td>\n",
              "      <td>8866.57</td>\n",
              "      <td>9320.88</td>\n",
              "      <td>9560.9</td>\n",
              "      <td>10283</td>\n",
              "      <td>10650.8</td>\n",
              "      <td>10270.6</td>\n",
              "      <td>10942.7</td>\n",
              "      <td>11679.4</td>\n",
              "      <td>13614.4</td>\n",
              "      <td>14429.6</td>\n",
              "      <td>15592.9</td>\n",
              "      <td>15388.4</td>\n",
              "      <td>15510.2</td>\n",
              "      <td>16539.8</td>\n",
              "      <td>16046.5</td>\n",
              "      <td>16686</td>\n",
              "      <td>18051.2</td>\n",
              "      <td>18029</td>\n",
              "      <td>18810.5</td>\n",
              "    </tr>\n",
              "  </tbody>\n",
              "</table>\n",
              "</div>"
            ],
            "text/plain": [
              "                country  Country Code  ... 2015 [YR2015] 2016 [YR2016]\n",
              "15            Bangladesh          BGD  ...       1248.45       1401.62\n",
              "181  St. Kitts and Nevis          KNA  ...         18029       18810.5\n",
              "\n",
              "[2 rows x 42 columns]"
            ]
          },
          "metadata": {
            "tags": []
          },
          "execution_count": 17
        }
      ]
    },
    {
      "cell_type": "code",
      "metadata": {
        "colab": {
          "base_uri": "https://localhost:8080/"
        },
        "id": "Ipm8SzbCdsd4",
        "outputId": "f590d5e0-56ce-440e-c065-d5d8577e4d7f"
      },
      "source": [
        "gdp_pc.columns"
      ],
      "execution_count": null,
      "outputs": [
        {
          "output_type": "execute_result",
          "data": {
            "text/plain": [
              "Index(['country ', 'Country Code', 'Series Name', 'Series Code',\n",
              "       '1979 [YR1979]', '1980 [YR1980]', '1981 [YR1981]', '1982 [YR1982]',\n",
              "       '1983 [YR1983]', '1984 [YR1984]', '1985 [YR1985]', '1986 [YR1986]',\n",
              "       '1987 [YR1987]', '1988 [YR1988]', '1989 [YR1989]', '1990 [YR1990]',\n",
              "       '1991 [YR1991]', '1992 [YR1992]', '1993 [YR1993]', '1994 [YR1994]',\n",
              "       '1995 [YR1995]', '1996 [YR1996]', '1997 [YR1997]', '1998 [YR1998]',\n",
              "       '1999 [YR1999]', '2000 [YR2000]', '2001 [YR2001]', '2002 [YR2002]',\n",
              "       '2003 [YR2003]', '2004 [YR2004]', '2005 [YR2005]', '2006 [YR2006]',\n",
              "       '2007 [YR2007]', '2008 [YR2008]', '2009 [YR2009]', '2010 [YR2010]',\n",
              "       '2011 [YR2011]', '2012 [YR2012]', '2013 [YR2013]', '2014 [YR2014]',\n",
              "       '2015 [YR2015]', '2016 [YR2016]'],\n",
              "      dtype='object')"
            ]
          },
          "metadata": {
            "tags": []
          },
          "execution_count": 18
        }
      ]
    },
    {
      "cell_type": "markdown",
      "metadata": {
        "id": "jcGbwmuXuqGy"
      },
      "source": [
        "#1.3 Data Cleaning"
      ]
    },
    {
      "cell_type": "markdown",
      "metadata": {
        "id": "3nG5emWpu4q9"
      },
      "source": [
        "##1.3.1 Validity"
      ]
    },
    {
      "cell_type": "code",
      "metadata": {
        "id": "_2hTr2fhgg-5",
        "colab": {
          "base_uri": "https://localhost:8080/"
        },
        "outputId": "02aeaf61-8f42-4f17-c040-315053bcbb66"
      },
      "source": [
        "#Under validity, we check for columns that are not needed in our data analysis and drop them. We also check for syntax errors.\n",
        "#Previewing our columns\n",
        "hdi.columns"
      ],
      "execution_count": null,
      "outputs": [
        {
          "output_type": "execute_result",
          "data": {
            "text/plain": [
              "Index(['HDI Rank', 'Country', '1990', 'Unnamed: 3', '1991', 'Unnamed: 5',\n",
              "       '1992', 'Unnamed: 7', '1993', 'Unnamed: 9', '1994', 'Unnamed: 11',\n",
              "       '1995', 'Unnamed: 13', '1996', 'Unnamed: 15', '1997', 'Unnamed: 17',\n",
              "       '1998', 'Unnamed: 19', '1999', 'Unnamed: 21', '2000', 'Unnamed: 23',\n",
              "       '2001', 'Unnamed: 25', '2002', 'Unnamed: 27', '2003', 'Unnamed: 29',\n",
              "       '2004', 'Unnamed: 31', '2005', 'Unnamed: 33', '2006', 'Unnamed: 35',\n",
              "       '2007', 'Unnamed: 37', '2008', 'Unnamed: 39', '2009', 'Unnamed: 41',\n",
              "       '2010', 'Unnamed: 43', '2011', 'Unnamed: 45', '2012', 'Unnamed: 47',\n",
              "       '2013', 'Unnamed: 49', '2014', 'Unnamed: 51', '2015', 'Unnamed: 53',\n",
              "       '2016', 'Unnamed: 55', '2017', 'Unnamed: 57', '2018', 'Unnamed: 59',\n",
              "       '2019'],\n",
              "      dtype='object')"
            ]
          },
          "metadata": {
            "tags": []
          },
          "execution_count": 19
        }
      ]
    },
    {
      "cell_type": "code",
      "metadata": {
        "id": "MdkXUdWRgZlJ"
      },
      "source": [
        "#On previewing our hdi dataset, all the unnamed columns are empty, so we use a for loop to drop them\n",
        "for col in hdi.columns:\n",
        "    if 'Unnamed: ' in col:\n",
        "        del hdi[col]"
      ],
      "execution_count": null,
      "outputs": []
    },
    {
      "cell_type": "code",
      "metadata": {
        "colab": {
          "base_uri": "https://localhost:8080/"
        },
        "id": "978Bgz7avLPu",
        "outputId": "6ad6d022-cb93-4512-e0f3-9aae19959b95"
      },
      "source": [
        "self_iced.columns"
      ],
      "execution_count": null,
      "outputs": [
        {
          "output_type": "execute_result",
          "data": {
            "text/plain": [
              "Index(['country', 'year', 'sex', 'age', 'suicides_no', 'population'], dtype='object')"
            ]
          },
          "metadata": {
            "tags": []
          },
          "execution_count": 21
        }
      ]
    },
    {
      "cell_type": "code",
      "metadata": {
        "colab": {
          "base_uri": "https://localhost:8080/"
        },
        "id": "9_N2I1z3vQMM",
        "outputId": "45462647-4358-4a9d-c855-659018e94f5f"
      },
      "source": [
        "cont.columns"
      ],
      "execution_count": null,
      "outputs": [
        {
          "output_type": "execute_result",
          "data": {
            "text/plain": [
              "Index(['country', 'code_2', 'code_3', 'country_code', 'iso_3166_2',\n",
              "       'continent', 'sub_region', 'region_code', 'sub_region_code'],\n",
              "      dtype='object')"
            ]
          },
          "metadata": {
            "tags": []
          },
          "execution_count": 22
        }
      ]
    },
    {
      "cell_type": "code",
      "metadata": {
        "id": "ZEK-7GB_iGcl"
      },
      "source": [
        "cont = cont.drop(columns =['code_2', 'code_3', 'country_code',  'iso_3166_2', 'sub_region', 'region_code', 'sub_region_code' ])\n"
      ],
      "execution_count": null,
      "outputs": []
    },
    {
      "cell_type": "code",
      "metadata": {
        "colab": {
          "base_uri": "https://localhost:8080/",
          "height": 111
        },
        "id": "Gmx4fFw8FWoZ",
        "outputId": "fb720cee-16d1-4a96-b558-3df440df2344"
      },
      "source": [
        "cont.head(2)"
      ],
      "execution_count": null,
      "outputs": [
        {
          "output_type": "execute_result",
          "data": {
            "text/html": [
              "<div>\n",
              "<style scoped>\n",
              "    .dataframe tbody tr th:only-of-type {\n",
              "        vertical-align: middle;\n",
              "    }\n",
              "\n",
              "    .dataframe tbody tr th {\n",
              "        vertical-align: top;\n",
              "    }\n",
              "\n",
              "    .dataframe thead th {\n",
              "        text-align: right;\n",
              "    }\n",
              "</style>\n",
              "<table border=\"1\" class=\"dataframe\">\n",
              "  <thead>\n",
              "    <tr style=\"text-align: right;\">\n",
              "      <th></th>\n",
              "      <th>country</th>\n",
              "      <th>continent</th>\n",
              "    </tr>\n",
              "  </thead>\n",
              "  <tbody>\n",
              "    <tr>\n",
              "      <th>0</th>\n",
              "      <td>Afghanistan</td>\n",
              "      <td>Asia</td>\n",
              "    </tr>\n",
              "    <tr>\n",
              "      <th>1</th>\n",
              "      <td>Åland Islands</td>\n",
              "      <td>Europe</td>\n",
              "    </tr>\n",
              "  </tbody>\n",
              "</table>\n",
              "</div>"
            ],
            "text/plain": [
              "         country continent\n",
              "0    Afghanistan      Asia\n",
              "1  Åland Islands    Europe"
            ]
          },
          "metadata": {
            "tags": []
          },
          "execution_count": 24
        }
      ]
    },
    {
      "cell_type": "code",
      "metadata": {
        "id": "ctYRRvQxIDTt"
      },
      "source": [
        "#Here we melt the year columns of the hdi dataset to match the layout of the main dataset we want to work with\n",
        "#while maintaining the HDI Rank and Country columns using the .melt attribute.\n",
        "hdi = hdi.melt(id_vars=[\"HDI Rank\", \"Country\"],\n",
        "               var_name=\"Year\"\n",
        "               )"
      ],
      "execution_count": null,
      "outputs": []
    },
    {
      "cell_type": "code",
      "metadata": {
        "colab": {
          "base_uri": "https://localhost:8080/",
          "height": 142
        },
        "id": "hDDgY9evI2Cq",
        "outputId": "2f84a6b9-3cc6-4205-ff55-3bec4a1e0dad"
      },
      "source": [
        "hdi.head(3)"
      ],
      "execution_count": null,
      "outputs": [
        {
          "output_type": "execute_result",
          "data": {
            "text/html": [
              "<div>\n",
              "<style scoped>\n",
              "    .dataframe tbody tr th:only-of-type {\n",
              "        vertical-align: middle;\n",
              "    }\n",
              "\n",
              "    .dataframe tbody tr th {\n",
              "        vertical-align: top;\n",
              "    }\n",
              "\n",
              "    .dataframe thead th {\n",
              "        text-align: right;\n",
              "    }\n",
              "</style>\n",
              "<table border=\"1\" class=\"dataframe\">\n",
              "  <thead>\n",
              "    <tr style=\"text-align: right;\">\n",
              "      <th></th>\n",
              "      <th>HDI Rank</th>\n",
              "      <th>Country</th>\n",
              "      <th>Year</th>\n",
              "      <th>value</th>\n",
              "    </tr>\n",
              "  </thead>\n",
              "  <tbody>\n",
              "    <tr>\n",
              "      <th>0</th>\n",
              "      <td>169</td>\n",
              "      <td>Afghanistan</td>\n",
              "      <td>1990</td>\n",
              "      <td>0.302</td>\n",
              "    </tr>\n",
              "    <tr>\n",
              "      <th>1</th>\n",
              "      <td>69</td>\n",
              "      <td>Albania</td>\n",
              "      <td>1990</td>\n",
              "      <td>0.65</td>\n",
              "    </tr>\n",
              "    <tr>\n",
              "      <th>2</th>\n",
              "      <td>91</td>\n",
              "      <td>Algeria</td>\n",
              "      <td>1990</td>\n",
              "      <td>0.572</td>\n",
              "    </tr>\n",
              "  </tbody>\n",
              "</table>\n",
              "</div>"
            ],
            "text/plain": [
              "  HDI Rank       Country  Year  value\n",
              "0      169   Afghanistan  1990  0.302\n",
              "1       69       Albania  1990   0.65\n",
              "2       91       Algeria  1990  0.572"
            ]
          },
          "metadata": {
            "tags": []
          },
          "execution_count": 26
        }
      ]
    },
    {
      "cell_type": "code",
      "metadata": {
        "colab": {
          "base_uri": "https://localhost:8080/",
          "height": 148
        },
        "id": "9gZIr8cddkrM",
        "outputId": "fe14d06a-f9ec-411e-9836-78d9871b471b"
      },
      "source": [
        "gdp_pc = gdp_pc.drop(columns=['Country Code', 'Series Name', 'Series Code'])\n",
        "gdp_pc.head(2)"
      ],
      "execution_count": null,
      "outputs": [
        {
          "output_type": "execute_result",
          "data": {
            "text/html": [
              "<div>\n",
              "<style scoped>\n",
              "    .dataframe tbody tr th:only-of-type {\n",
              "        vertical-align: middle;\n",
              "    }\n",
              "\n",
              "    .dataframe tbody tr th {\n",
              "        vertical-align: top;\n",
              "    }\n",
              "\n",
              "    .dataframe thead th {\n",
              "        text-align: right;\n",
              "    }\n",
              "</style>\n",
              "<table border=\"1\" class=\"dataframe\">\n",
              "  <thead>\n",
              "    <tr style=\"text-align: right;\">\n",
              "      <th></th>\n",
              "      <th>country</th>\n",
              "      <th>1979 [YR1979]</th>\n",
              "      <th>1980 [YR1980]</th>\n",
              "      <th>1981 [YR1981]</th>\n",
              "      <th>1982 [YR1982]</th>\n",
              "      <th>1983 [YR1983]</th>\n",
              "      <th>1984 [YR1984]</th>\n",
              "      <th>1985 [YR1985]</th>\n",
              "      <th>1986 [YR1986]</th>\n",
              "      <th>1987 [YR1987]</th>\n",
              "      <th>1988 [YR1988]</th>\n",
              "      <th>1989 [YR1989]</th>\n",
              "      <th>1990 [YR1990]</th>\n",
              "      <th>1991 [YR1991]</th>\n",
              "      <th>1992 [YR1992]</th>\n",
              "      <th>1993 [YR1993]</th>\n",
              "      <th>1994 [YR1994]</th>\n",
              "      <th>1995 [YR1995]</th>\n",
              "      <th>1996 [YR1996]</th>\n",
              "      <th>1997 [YR1997]</th>\n",
              "      <th>1998 [YR1998]</th>\n",
              "      <th>1999 [YR1999]</th>\n",
              "      <th>2000 [YR2000]</th>\n",
              "      <th>2001 [YR2001]</th>\n",
              "      <th>2002 [YR2002]</th>\n",
              "      <th>2003 [YR2003]</th>\n",
              "      <th>2004 [YR2004]</th>\n",
              "      <th>2005 [YR2005]</th>\n",
              "      <th>2006 [YR2006]</th>\n",
              "      <th>2007 [YR2007]</th>\n",
              "      <th>2008 [YR2008]</th>\n",
              "      <th>2009 [YR2009]</th>\n",
              "      <th>2010 [YR2010]</th>\n",
              "      <th>2011 [YR2011]</th>\n",
              "      <th>2012 [YR2012]</th>\n",
              "      <th>2013 [YR2013]</th>\n",
              "      <th>2014 [YR2014]</th>\n",
              "      <th>2015 [YR2015]</th>\n",
              "      <th>2016 [YR2016]</th>\n",
              "    </tr>\n",
              "  </thead>\n",
              "  <tbody>\n",
              "    <tr>\n",
              "      <th>0</th>\n",
              "      <td>Afghanistan</td>\n",
              "      <td>275.738</td>\n",
              "      <td>272.655</td>\n",
              "      <td>264.111</td>\n",
              "      <td>..</td>\n",
              "      <td>..</td>\n",
              "      <td>..</td>\n",
              "      <td>..</td>\n",
              "      <td>..</td>\n",
              "      <td>..</td>\n",
              "      <td>..</td>\n",
              "      <td>..</td>\n",
              "      <td>..</td>\n",
              "      <td>..</td>\n",
              "      <td>..</td>\n",
              "      <td>..</td>\n",
              "      <td>..</td>\n",
              "      <td>..</td>\n",
              "      <td>..</td>\n",
              "      <td>..</td>\n",
              "      <td>..</td>\n",
              "      <td>..</td>\n",
              "      <td>..</td>\n",
              "      <td>..</td>\n",
              "      <td>179.427</td>\n",
              "      <td>190.684</td>\n",
              "      <td>211.382</td>\n",
              "      <td>242.031</td>\n",
              "      <td>263.734</td>\n",
              "      <td>359.693</td>\n",
              "      <td>364.661</td>\n",
              "      <td>438.076</td>\n",
              "      <td>543.303</td>\n",
              "      <td>591.163</td>\n",
              "      <td>641.871</td>\n",
              "      <td>637.166</td>\n",
              "      <td>613.857</td>\n",
              "      <td>578.466</td>\n",
              "      <td>509.219</td>\n",
              "    </tr>\n",
              "    <tr>\n",
              "      <th>1</th>\n",
              "      <td>Albania</td>\n",
              "      <td>..</td>\n",
              "      <td>..</td>\n",
              "      <td>..</td>\n",
              "      <td>..</td>\n",
              "      <td>..</td>\n",
              "      <td>639.485</td>\n",
              "      <td>639.866</td>\n",
              "      <td>693.873</td>\n",
              "      <td>674.793</td>\n",
              "      <td>652.774</td>\n",
              "      <td>697.996</td>\n",
              "      <td>617.23</td>\n",
              "      <td>336.587</td>\n",
              "      <td>200.852</td>\n",
              "      <td>367.279</td>\n",
              "      <td>586.416</td>\n",
              "      <td>750.604</td>\n",
              "      <td>1009.98</td>\n",
              "      <td>717.381</td>\n",
              "      <td>813.79</td>\n",
              "      <td>1033.24</td>\n",
              "      <td>1126.68</td>\n",
              "      <td>1281.66</td>\n",
              "      <td>1425.12</td>\n",
              "      <td>1846.12</td>\n",
              "      <td>2373.58</td>\n",
              "      <td>2673.79</td>\n",
              "      <td>2972.74</td>\n",
              "      <td>3595.04</td>\n",
              "      <td>4370.54</td>\n",
              "      <td>4114.14</td>\n",
              "      <td>4094.35</td>\n",
              "      <td>4437.14</td>\n",
              "      <td>4247.63</td>\n",
              "      <td>4413.06</td>\n",
              "      <td>4578.63</td>\n",
              "      <td>3952.8</td>\n",
              "      <td>4124.06</td>\n",
              "    </tr>\n",
              "  </tbody>\n",
              "</table>\n",
              "</div>"
            ],
            "text/plain": [
              "      country  1979 [YR1979]  ... 2015 [YR2015] 2016 [YR2016]\n",
              "0  Afghanistan       275.738  ...       578.466       509.219\n",
              "1      Albania            ..  ...        3952.8       4124.06\n",
              "\n",
              "[2 rows x 39 columns]"
            ]
          },
          "metadata": {
            "tags": []
          },
          "execution_count": 27
        }
      ]
    },
    {
      "cell_type": "markdown",
      "metadata": {
        "id": "O1WHflvuv45n"
      },
      "source": [
        "##1.3.2 Accuracy"
      ]
    },
    {
      "cell_type": "code",
      "metadata": {
        "id": "WZEk6p7kvvzW"
      },
      "source": [
        "#From previewing the datasets we are to use, accuracy is achieved."
      ],
      "execution_count": null,
      "outputs": []
    },
    {
      "cell_type": "markdown",
      "metadata": {
        "id": "2cPFc7yHwAj7"
      },
      "source": [
        "##1.3.3 Completeness"
      ]
    },
    {
      "cell_type": "code",
      "metadata": {
        "colab": {
          "base_uri": "https://localhost:8080/"
        },
        "id": "j1gBdWCxwPG-",
        "outputId": "8618d14a-0f06-49bc-b247-20c922388b89"
      },
      "source": [
        "#Completeness entails checking for missing values\n",
        "hdi.isnull().sum()"
      ],
      "execution_count": null,
      "outputs": [
        {
          "output_type": "execute_result",
          "data": {
            "text/plain": [
              "HDI Rank    60\n",
              "Country      0\n",
              "Year         0\n",
              "value        2\n",
              "dtype: int64"
            ]
          },
          "metadata": {
            "tags": []
          },
          "execution_count": 29
        }
      ]
    },
    {
      "cell_type": "code",
      "metadata": {
        "colab": {
          "base_uri": "https://localhost:8080/"
        },
        "id": "xsHbueSzwT_M",
        "outputId": "8da3da60-b197-4acc-e4cf-117e9664d180"
      },
      "source": [
        "self_iced.isnull().sum()"
      ],
      "execution_count": null,
      "outputs": [
        {
          "output_type": "execute_result",
          "data": {
            "text/plain": [
              "country           0\n",
              "year              0\n",
              "sex               0\n",
              "age               0\n",
              "suicides_no    2256\n",
              "population     5460\n",
              "dtype: int64"
            ]
          },
          "metadata": {
            "tags": []
          },
          "execution_count": 30
        }
      ]
    },
    {
      "cell_type": "code",
      "metadata": {
        "colab": {
          "base_uri": "https://localhost:8080/"
        },
        "id": "SltMtx6WwpES",
        "outputId": "cfe60af8-20f7-453b-9b90-8ff2c0bfc45e"
      },
      "source": [
        "cont.isnull().sum()"
      ],
      "execution_count": null,
      "outputs": [
        {
          "output_type": "execute_result",
          "data": {
            "text/plain": [
              "country      0\n",
              "continent    9\n",
              "dtype: int64"
            ]
          },
          "metadata": {
            "tags": []
          },
          "execution_count": 31
        }
      ]
    },
    {
      "cell_type": "code",
      "metadata": {
        "id": "fMc6gDGBv_WM"
      },
      "source": [
        "self_iced = self_iced['suicides_no'] = self_iced['suicides_no'].fillna(0)"
      ],
      "execution_count": null,
      "outputs": []
    },
    {
      "cell_type": "code",
      "metadata": {
        "id": "JyCBS_Slu_OU"
      },
      "source": [
        "self_iced['population'].fillna((self_iced['population'].mean()), inplace=True)"
      ],
      "execution_count": null,
      "outputs": []
    },
    {
      "cell_type": "code",
      "metadata": {
        "colab": {
          "base_uri": "https://localhost:8080/",
          "height": 111
        },
        "id": "C420vddmtnnV",
        "outputId": "cdd04bad-7c46-44a6-c06d-86a5bd27d3ea"
      },
      "source": [
        "self_iced.head(2)"
      ],
      "execution_count": null,
      "outputs": [
        {
          "output_type": "execute_result",
          "data": {
            "text/html": [
              "<div>\n",
              "<style scoped>\n",
              "    .dataframe tbody tr th:only-of-type {\n",
              "        vertical-align: middle;\n",
              "    }\n",
              "\n",
              "    .dataframe tbody tr th {\n",
              "        vertical-align: top;\n",
              "    }\n",
              "\n",
              "    .dataframe thead th {\n",
              "        text-align: right;\n",
              "    }\n",
              "</style>\n",
              "<table border=\"1\" class=\"dataframe\">\n",
              "  <thead>\n",
              "    <tr style=\"text-align: right;\">\n",
              "      <th></th>\n",
              "      <th>country</th>\n",
              "      <th>year</th>\n",
              "      <th>sex</th>\n",
              "      <th>age</th>\n",
              "      <th>suicides_no</th>\n",
              "      <th>population</th>\n",
              "    </tr>\n",
              "  </thead>\n",
              "  <tbody>\n",
              "    <tr>\n",
              "      <th>0</th>\n",
              "      <td>Albania</td>\n",
              "      <td>1985</td>\n",
              "      <td>female</td>\n",
              "      <td>15-24 years</td>\n",
              "      <td>NaN</td>\n",
              "      <td>277900.0</td>\n",
              "    </tr>\n",
              "    <tr>\n",
              "      <th>1</th>\n",
              "      <td>Albania</td>\n",
              "      <td>1985</td>\n",
              "      <td>female</td>\n",
              "      <td>25-34 years</td>\n",
              "      <td>NaN</td>\n",
              "      <td>246800.0</td>\n",
              "    </tr>\n",
              "  </tbody>\n",
              "</table>\n",
              "</div>"
            ],
            "text/plain": [
              "   country  year     sex          age  suicides_no  population\n",
              "0  Albania  1985  female  15-24 years          NaN    277900.0\n",
              "1  Albania  1985  female  25-34 years          NaN    246800.0"
            ]
          },
          "metadata": {
            "tags": []
          },
          "execution_count": 36
        }
      ]
    },
    {
      "cell_type": "markdown",
      "metadata": {
        "id": "O9K8JuIDwtjd"
      },
      "source": [
        "##1.3.4 Consistency"
      ]
    },
    {
      "cell_type": "code",
      "metadata": {
        "id": "Z_87G_Nceeez",
        "colab": {
          "base_uri": "https://localhost:8080/"
        },
        "outputId": "a51a14e6-8650-4219-8596-b106eb178b9a"
      },
      "source": [
        "#Under consistency we check for duplicate values\n",
        "self_iced.duplicated().sum()"
      ],
      "execution_count": null,
      "outputs": [
        {
          "output_type": "execute_result",
          "data": {
            "text/plain": [
              "0"
            ]
          },
          "metadata": {
            "tags": []
          },
          "execution_count": 37
        }
      ]
    },
    {
      "cell_type": "code",
      "metadata": {
        "id": "8AqqjIBigN2M",
        "colab": {
          "base_uri": "https://localhost:8080/"
        },
        "outputId": "09b9a441-9676-4a31-de9b-75d78d8bd87b"
      },
      "source": [
        "cont.duplicated().sum()"
      ],
      "execution_count": null,
      "outputs": [
        {
          "output_type": "execute_result",
          "data": {
            "text/plain": [
              "0"
            ]
          },
          "metadata": {
            "tags": []
          },
          "execution_count": 38
        }
      ]
    },
    {
      "cell_type": "code",
      "metadata": {
        "colab": {
          "base_uri": "https://localhost:8080/"
        },
        "id": "VFA2UKUWw4WC",
        "outputId": "e84b34d4-5e2e-4faa-8647-9f0c2d6a2fae"
      },
      "source": [
        "hdi.duplicated().sum()"
      ],
      "execution_count": null,
      "outputs": [
        {
          "output_type": "execute_result",
          "data": {
            "text/plain": [
              "0"
            ]
          },
          "metadata": {
            "tags": []
          },
          "execution_count": 39
        }
      ]
    },
    {
      "cell_type": "markdown",
      "metadata": {
        "id": "73yjn-R3xFLd"
      },
      "source": [
        "##1.3.5 Uniformity"
      ]
    },
    {
      "cell_type": "code",
      "metadata": {
        "id": "aJK7cXVgxCy9"
      },
      "source": [
        "#Here we checked that the column names were all similar to make our work when analysing easier\n",
        "hdi.columns= hdi.columns.str.lower()"
      ],
      "execution_count": null,
      "outputs": []
    },
    {
      "cell_type": "code",
      "metadata": {
        "id": "t9tFcBm3x33G"
      },
      "source": [
        "cont.columns= cont.columns.str.lower()"
      ],
      "execution_count": null,
      "outputs": []
    },
    {
      "cell_type": "code",
      "metadata": {
        "id": "udOC_tqGxP9Q"
      },
      "source": [
        "self_iced =self_iced.columns.str.lower()"
      ],
      "execution_count": null,
      "outputs": []
    },
    {
      "cell_type": "code",
      "metadata": {
        "colab": {
          "base_uri": "https://localhost:8080/",
          "height": 117
        },
        "id": "69JZnntmeO-e",
        "outputId": "13e3c50d-df8e-4046-9d53-20ca510d7b56"
      },
      "source": [
        "gdp_pc = gdp_pc.rename(columns = {'country':'Country'})\n",
        "gdp_pc.head(1)"
      ],
      "execution_count": null,
      "outputs": [
        {
          "output_type": "execute_result",
          "data": {
            "text/html": [
              "<div>\n",
              "<style scoped>\n",
              "    .dataframe tbody tr th:only-of-type {\n",
              "        vertical-align: middle;\n",
              "    }\n",
              "\n",
              "    .dataframe tbody tr th {\n",
              "        vertical-align: top;\n",
              "    }\n",
              "\n",
              "    .dataframe thead th {\n",
              "        text-align: right;\n",
              "    }\n",
              "</style>\n",
              "<table border=\"1\" class=\"dataframe\">\n",
              "  <thead>\n",
              "    <tr style=\"text-align: right;\">\n",
              "      <th></th>\n",
              "      <th>country</th>\n",
              "      <th>1979 [YR1979]</th>\n",
              "      <th>1980 [YR1980]</th>\n",
              "      <th>1981 [YR1981]</th>\n",
              "      <th>1982 [YR1982]</th>\n",
              "      <th>1983 [YR1983]</th>\n",
              "      <th>1984 [YR1984]</th>\n",
              "      <th>1985 [YR1985]</th>\n",
              "      <th>1986 [YR1986]</th>\n",
              "      <th>1987 [YR1987]</th>\n",
              "      <th>1988 [YR1988]</th>\n",
              "      <th>1989 [YR1989]</th>\n",
              "      <th>1990 [YR1990]</th>\n",
              "      <th>1991 [YR1991]</th>\n",
              "      <th>1992 [YR1992]</th>\n",
              "      <th>1993 [YR1993]</th>\n",
              "      <th>1994 [YR1994]</th>\n",
              "      <th>1995 [YR1995]</th>\n",
              "      <th>1996 [YR1996]</th>\n",
              "      <th>1997 [YR1997]</th>\n",
              "      <th>1998 [YR1998]</th>\n",
              "      <th>1999 [YR1999]</th>\n",
              "      <th>2000 [YR2000]</th>\n",
              "      <th>2001 [YR2001]</th>\n",
              "      <th>2002 [YR2002]</th>\n",
              "      <th>2003 [YR2003]</th>\n",
              "      <th>2004 [YR2004]</th>\n",
              "      <th>2005 [YR2005]</th>\n",
              "      <th>2006 [YR2006]</th>\n",
              "      <th>2007 [YR2007]</th>\n",
              "      <th>2008 [YR2008]</th>\n",
              "      <th>2009 [YR2009]</th>\n",
              "      <th>2010 [YR2010]</th>\n",
              "      <th>2011 [YR2011]</th>\n",
              "      <th>2012 [YR2012]</th>\n",
              "      <th>2013 [YR2013]</th>\n",
              "      <th>2014 [YR2014]</th>\n",
              "      <th>2015 [YR2015]</th>\n",
              "      <th>2016 [YR2016]</th>\n",
              "    </tr>\n",
              "  </thead>\n",
              "  <tbody>\n",
              "    <tr>\n",
              "      <th>0</th>\n",
              "      <td>Afghanistan</td>\n",
              "      <td>275.738</td>\n",
              "      <td>272.655</td>\n",
              "      <td>264.111</td>\n",
              "      <td>..</td>\n",
              "      <td>..</td>\n",
              "      <td>..</td>\n",
              "      <td>..</td>\n",
              "      <td>..</td>\n",
              "      <td>..</td>\n",
              "      <td>..</td>\n",
              "      <td>..</td>\n",
              "      <td>..</td>\n",
              "      <td>..</td>\n",
              "      <td>..</td>\n",
              "      <td>..</td>\n",
              "      <td>..</td>\n",
              "      <td>..</td>\n",
              "      <td>..</td>\n",
              "      <td>..</td>\n",
              "      <td>..</td>\n",
              "      <td>..</td>\n",
              "      <td>..</td>\n",
              "      <td>..</td>\n",
              "      <td>179.427</td>\n",
              "      <td>190.684</td>\n",
              "      <td>211.382</td>\n",
              "      <td>242.031</td>\n",
              "      <td>263.734</td>\n",
              "      <td>359.693</td>\n",
              "      <td>364.661</td>\n",
              "      <td>438.076</td>\n",
              "      <td>543.303</td>\n",
              "      <td>591.163</td>\n",
              "      <td>641.871</td>\n",
              "      <td>637.166</td>\n",
              "      <td>613.857</td>\n",
              "      <td>578.466</td>\n",
              "      <td>509.219</td>\n",
              "    </tr>\n",
              "  </tbody>\n",
              "</table>\n",
              "</div>"
            ],
            "text/plain": [
              "      country  1979 [YR1979]  ... 2015 [YR2015] 2016 [YR2016]\n",
              "0  Afghanistan       275.738  ...       578.466       509.219\n",
              "\n",
              "[1 rows x 39 columns]"
            ]
          },
          "metadata": {
            "tags": []
          },
          "execution_count": 43
        }
      ]
    },
    {
      "cell_type": "markdown",
      "metadata": {
        "id": "SqRMxgS6JJJh"
      },
      "source": [
        "We preview our datasets \n"
      ]
    },
    {
      "cell_type": "code",
      "metadata": {
        "colab": {
          "base_uri": "https://localhost:8080/",
          "height": 111
        },
        "id": "ed3yuojCJgOO",
        "outputId": "ab14431d-7b01-4ec6-ffa0-736c060f8788"
      },
      "source": [
        "self_iced.head(2)"
      ],
      "execution_count": null,
      "outputs": [
        {
          "output_type": "execute_result",
          "data": {
            "text/html": [
              "<div>\n",
              "<style scoped>\n",
              "    .dataframe tbody tr th:only-of-type {\n",
              "        vertical-align: middle;\n",
              "    }\n",
              "\n",
              "    .dataframe tbody tr th {\n",
              "        vertical-align: top;\n",
              "    }\n",
              "\n",
              "    .dataframe thead th {\n",
              "        text-align: right;\n",
              "    }\n",
              "</style>\n",
              "<table border=\"1\" class=\"dataframe\">\n",
              "  <thead>\n",
              "    <tr style=\"text-align: right;\">\n",
              "      <th></th>\n",
              "      <th>country</th>\n",
              "      <th>year</th>\n",
              "      <th>sex</th>\n",
              "      <th>age</th>\n",
              "      <th>suicides_no</th>\n",
              "      <th>population</th>\n",
              "    </tr>\n",
              "  </thead>\n",
              "  <tbody>\n",
              "    <tr>\n",
              "      <th>0</th>\n",
              "      <td>Albania</td>\n",
              "      <td>1985</td>\n",
              "      <td>female</td>\n",
              "      <td>15-24 years</td>\n",
              "      <td>NaN</td>\n",
              "      <td>277900.0</td>\n",
              "    </tr>\n",
              "    <tr>\n",
              "      <th>1</th>\n",
              "      <td>Albania</td>\n",
              "      <td>1985</td>\n",
              "      <td>female</td>\n",
              "      <td>25-34 years</td>\n",
              "      <td>NaN</td>\n",
              "      <td>246800.0</td>\n",
              "    </tr>\n",
              "  </tbody>\n",
              "</table>\n",
              "</div>"
            ],
            "text/plain": [
              "   country  year     sex          age  suicides_no  population\n",
              "0  Albania  1985  female  15-24 years          NaN    277900.0\n",
              "1  Albania  1985  female  25-34 years          NaN    246800.0"
            ]
          },
          "metadata": {
            "tags": []
          },
          "execution_count": 46
        }
      ]
    },
    {
      "cell_type": "code",
      "metadata": {
        "colab": {
          "base_uri": "https://localhost:8080/",
          "height": 111
        },
        "id": "jUHwPJPmJjTI",
        "outputId": "ca9ad9bb-14ef-43a7-dec1-f27685493171"
      },
      "source": [
        "hdi.head(2)"
      ],
      "execution_count": null,
      "outputs": [
        {
          "output_type": "execute_result",
          "data": {
            "text/html": [
              "<div>\n",
              "<style scoped>\n",
              "    .dataframe tbody tr th:only-of-type {\n",
              "        vertical-align: middle;\n",
              "    }\n",
              "\n",
              "    .dataframe tbody tr th {\n",
              "        vertical-align: top;\n",
              "    }\n",
              "\n",
              "    .dataframe thead th {\n",
              "        text-align: right;\n",
              "    }\n",
              "</style>\n",
              "<table border=\"1\" class=\"dataframe\">\n",
              "  <thead>\n",
              "    <tr style=\"text-align: right;\">\n",
              "      <th></th>\n",
              "      <th>hdi rank</th>\n",
              "      <th>country</th>\n",
              "      <th>year</th>\n",
              "      <th>value</th>\n",
              "    </tr>\n",
              "  </thead>\n",
              "  <tbody>\n",
              "    <tr>\n",
              "      <th>0</th>\n",
              "      <td>169</td>\n",
              "      <td>Afghanistan</td>\n",
              "      <td>1990</td>\n",
              "      <td>0.302</td>\n",
              "    </tr>\n",
              "    <tr>\n",
              "      <th>1</th>\n",
              "      <td>69</td>\n",
              "      <td>Albania</td>\n",
              "      <td>1990</td>\n",
              "      <td>0.65</td>\n",
              "    </tr>\n",
              "  </tbody>\n",
              "</table>\n",
              "</div>"
            ],
            "text/plain": [
              "  hdi rank       country  year  value\n",
              "0      169   Afghanistan  1990  0.302\n",
              "1       69       Albania  1990   0.65"
            ]
          },
          "metadata": {
            "tags": []
          },
          "execution_count": 47
        }
      ]
    },
    {
      "cell_type": "code",
      "metadata": {
        "colab": {
          "base_uri": "https://localhost:8080/",
          "height": 111
        },
        "id": "W4__9a9EJlcg",
        "outputId": "bad15977-911c-4e21-a498-0df23c0617f7"
      },
      "source": [
        "cont.head(2)"
      ],
      "execution_count": null,
      "outputs": [
        {
          "output_type": "execute_result",
          "data": {
            "text/html": [
              "<div>\n",
              "<style scoped>\n",
              "    .dataframe tbody tr th:only-of-type {\n",
              "        vertical-align: middle;\n",
              "    }\n",
              "\n",
              "    .dataframe tbody tr th {\n",
              "        vertical-align: top;\n",
              "    }\n",
              "\n",
              "    .dataframe thead th {\n",
              "        text-align: right;\n",
              "    }\n",
              "</style>\n",
              "<table border=\"1\" class=\"dataframe\">\n",
              "  <thead>\n",
              "    <tr style=\"text-align: right;\">\n",
              "      <th></th>\n",
              "      <th>country</th>\n",
              "      <th>continent</th>\n",
              "    </tr>\n",
              "  </thead>\n",
              "  <tbody>\n",
              "    <tr>\n",
              "      <th>0</th>\n",
              "      <td>Afghanistan</td>\n",
              "      <td>Asia</td>\n",
              "    </tr>\n",
              "    <tr>\n",
              "      <th>1</th>\n",
              "      <td>Åland Islands</td>\n",
              "      <td>Europe</td>\n",
              "    </tr>\n",
              "  </tbody>\n",
              "</table>\n",
              "</div>"
            ],
            "text/plain": [
              "         country continent\n",
              "0    Afghanistan      Asia\n",
              "1  Åland Islands    Europe"
            ]
          },
          "metadata": {
            "tags": []
          },
          "execution_count": 48
        }
      ]
    },
    {
      "cell_type": "code",
      "metadata": {
        "id": "LN0CJJ3fJ0_u"
      },
      "source": [
        "# We are not going to be needing the HDI rank column so we will do away with it.\n",
        "#\n",
        "hdi = hdi.drop(['hdi rank'], axis=1)"
      ],
      "execution_count": null,
      "outputs": []
    },
    {
      "cell_type": "code",
      "metadata": {
        "colab": {
          "base_uri": "https://localhost:8080/",
          "height": 111
        },
        "id": "bYyuqw3VKZxg",
        "outputId": "76891530-8963-48be-bd4d-47a2fafa0067"
      },
      "source": [
        "# Now we preview \n",
        "hdi.head(2)"
      ],
      "execution_count": null,
      "outputs": [
        {
          "output_type": "execute_result",
          "data": {
            "text/html": [
              "<div>\n",
              "<style scoped>\n",
              "    .dataframe tbody tr th:only-of-type {\n",
              "        vertical-align: middle;\n",
              "    }\n",
              "\n",
              "    .dataframe tbody tr th {\n",
              "        vertical-align: top;\n",
              "    }\n",
              "\n",
              "    .dataframe thead th {\n",
              "        text-align: right;\n",
              "    }\n",
              "</style>\n",
              "<table border=\"1\" class=\"dataframe\">\n",
              "  <thead>\n",
              "    <tr style=\"text-align: right;\">\n",
              "      <th></th>\n",
              "      <th>country</th>\n",
              "      <th>year</th>\n",
              "      <th>value</th>\n",
              "    </tr>\n",
              "  </thead>\n",
              "  <tbody>\n",
              "    <tr>\n",
              "      <th>0</th>\n",
              "      <td>Afghanistan</td>\n",
              "      <td>1990</td>\n",
              "      <td>0.302</td>\n",
              "    </tr>\n",
              "    <tr>\n",
              "      <th>1</th>\n",
              "      <td>Albania</td>\n",
              "      <td>1990</td>\n",
              "      <td>0.65</td>\n",
              "    </tr>\n",
              "  </tbody>\n",
              "</table>\n",
              "</div>"
            ],
            "text/plain": [
              "        country  year  value\n",
              "0   Afghanistan  1990  0.302\n",
              "1       Albania  1990   0.65"
            ]
          },
          "metadata": {
            "tags": []
          },
          "execution_count": 50
        }
      ]
    },
    {
      "cell_type": "markdown",
      "metadata": {
        "id": "QqeSPaQzDu99"
      },
      "source": [
        "#1.4 Merging Dataframes "
      ]
    },
    {
      "cell_type": "code",
      "metadata": {
        "id": "cWrDLJbbD5OS"
      },
      "source": [
        "self_iced = pd.merge(self_iced, cont, on='country')"
      ],
      "execution_count": null,
      "outputs": []
    },
    {
      "cell_type": "code",
      "metadata": {
        "colab": {
          "base_uri": "https://localhost:8080/",
          "height": 111
        },
        "id": "wXbgUHt3Kq18",
        "outputId": "32f73fb1-ff8f-4973-a4d9-19e93cded8fc"
      },
      "source": [
        "self_iced.head(2)"
      ],
      "execution_count": null,
      "outputs": [
        {
          "output_type": "execute_result",
          "data": {
            "text/html": [
              "<div>\n",
              "<style scoped>\n",
              "    .dataframe tbody tr th:only-of-type {\n",
              "        vertical-align: middle;\n",
              "    }\n",
              "\n",
              "    .dataframe tbody tr th {\n",
              "        vertical-align: top;\n",
              "    }\n",
              "\n",
              "    .dataframe thead th {\n",
              "        text-align: right;\n",
              "    }\n",
              "</style>\n",
              "<table border=\"1\" class=\"dataframe\">\n",
              "  <thead>\n",
              "    <tr style=\"text-align: right;\">\n",
              "      <th></th>\n",
              "      <th>country</th>\n",
              "      <th>year</th>\n",
              "      <th>sex</th>\n",
              "      <th>age</th>\n",
              "      <th>suicides_no</th>\n",
              "      <th>population</th>\n",
              "      <th>continent</th>\n",
              "    </tr>\n",
              "  </thead>\n",
              "  <tbody>\n",
              "    <tr>\n",
              "      <th>0</th>\n",
              "      <td>Albania</td>\n",
              "      <td>1985</td>\n",
              "      <td>female</td>\n",
              "      <td>15-24 years</td>\n",
              "      <td>NaN</td>\n",
              "      <td>277900.0</td>\n",
              "      <td>Europe</td>\n",
              "    </tr>\n",
              "    <tr>\n",
              "      <th>1</th>\n",
              "      <td>Albania</td>\n",
              "      <td>1985</td>\n",
              "      <td>female</td>\n",
              "      <td>25-34 years</td>\n",
              "      <td>NaN</td>\n",
              "      <td>246800.0</td>\n",
              "      <td>Europe</td>\n",
              "    </tr>\n",
              "  </tbody>\n",
              "</table>\n",
              "</div>"
            ],
            "text/plain": [
              "   country  year     sex          age  suicides_no  population continent\n",
              "0  Albania  1985  female  15-24 years          NaN    277900.0    Europe\n",
              "1  Albania  1985  female  25-34 years          NaN    246800.0    Europe"
            ]
          },
          "metadata": {
            "tags": []
          },
          "execution_count": 52
        }
      ]
    },
    {
      "cell_type": "code",
      "metadata": {
        "id": "5Cmn1W_8M30S"
      },
      "source": [
        "#Exporting our dataset\n",
        "self_iced.to_csv('self_iced.csv', index=False)"
      ],
      "execution_count": null,
      "outputs": []
    },
    {
      "cell_type": "markdown",
      "metadata": {
        "id": "bYyjhR5DyMG1"
      },
      "source": [
        "#1.4 Data Analysis"
      ]
    },
    {
      "cell_type": "code",
      "metadata": {
        "id": "5IjoBaFQv7Bz"
      },
      "source": [
        "Suicide = pd.read_csv('suicide_safi.csv')"
      ],
      "execution_count": 9,
      "outputs": []
    },
    {
      "cell_type": "code",
      "metadata": {
        "colab": {
          "base_uri": "https://localhost:8080/"
        },
        "id": "5XPAbkVLWLEh",
        "outputId": "ce9d0be0-1683-4434-a1e1-6a18ef5120ec"
      },
      "source": [
        "Suicide.columns"
      ],
      "execution_count": null,
      "outputs": [
        {
          "output_type": "execute_result",
          "data": {
            "text/plain": [
              "Index(['country', 'year', 'sex', 'age', 'suicides_no', 'population',\n",
              "       'suicides/100k pop', 'country-year', ' gdp_for_year ($) ',\n",
              "       'gdp_per_capita ($)', 'Unnamed: 10', 'Continent'],\n",
              "      dtype='object')"
            ]
          },
          "metadata": {
            "tags": []
          },
          "execution_count": 55
        }
      ]
    },
    {
      "cell_type": "markdown",
      "metadata": {
        "id": "laRpz4bIHw-R"
      },
      "source": [
        "### 1.4.1 What is the relationship between GDP per capita and suicide rates?"
      ]
    },
    {
      "cell_type": "code",
      "metadata": {
        "colab": {
          "base_uri": "https://localhost:8080/",
          "height": 1000
        },
        "id": "5dMOIsh-eAM6",
        "outputId": "c0cebd93-eef1-45c4-aef9-5c6ac5543c0b"
      },
      "source": [
        "#To determine if there's a reletionship between GDP and suicide rates\n",
        "#\n",
        "GDP_SR_Year = Suicide[['year','suicides/100k pop', 'gdp_per_capita ($)']].groupby('year').mean().reset_index()\n",
        "GDP_SR_Year"
      ],
      "execution_count": null,
      "outputs": [
        {
          "output_type": "execute_result",
          "data": {
            "text/html": [
              "<div>\n",
              "<style scoped>\n",
              "    .dataframe tbody tr th:only-of-type {\n",
              "        vertical-align: middle;\n",
              "    }\n",
              "\n",
              "    .dataframe tbody tr th {\n",
              "        vertical-align: top;\n",
              "    }\n",
              "\n",
              "    .dataframe thead th {\n",
              "        text-align: right;\n",
              "    }\n",
              "</style>\n",
              "<table border=\"1\" class=\"dataframe\">\n",
              "  <thead>\n",
              "    <tr style=\"text-align: right;\">\n",
              "      <th></th>\n",
              "      <th>year</th>\n",
              "      <th>suicides/100k pop</th>\n",
              "      <th>gdp_per_capita ($)</th>\n",
              "    </tr>\n",
              "  </thead>\n",
              "  <tbody>\n",
              "    <tr>\n",
              "      <th>0</th>\n",
              "      <td>1985</td>\n",
              "      <td>11.826198</td>\n",
              "      <td>6091.229167</td>\n",
              "    </tr>\n",
              "    <tr>\n",
              "      <th>1</th>\n",
              "      <td>1986</td>\n",
              "      <td>11.423333</td>\n",
              "      <td>7126.104167</td>\n",
              "    </tr>\n",
              "    <tr>\n",
              "      <th>2</th>\n",
              "      <td>1987</td>\n",
              "      <td>11.644213</td>\n",
              "      <td>8712.592593</td>\n",
              "    </tr>\n",
              "    <tr>\n",
              "      <th>3</th>\n",
              "      <td>1988</td>\n",
              "      <td>12.709405</td>\n",
              "      <td>9983.857143</td>\n",
              "    </tr>\n",
              "    <tr>\n",
              "      <th>4</th>\n",
              "      <td>1989</td>\n",
              "      <td>12.879071</td>\n",
              "      <td>9725.038462</td>\n",
              "    </tr>\n",
              "    <tr>\n",
              "      <th>5</th>\n",
              "      <td>1990</td>\n",
              "      <td>12.862956</td>\n",
              "      <td>9806.328125</td>\n",
              "    </tr>\n",
              "    <tr>\n",
              "      <th>6</th>\n",
              "      <td>1991</td>\n",
              "      <td>13.438880</td>\n",
              "      <td>10132.937500</td>\n",
              "    </tr>\n",
              "    <tr>\n",
              "      <th>7</th>\n",
              "      <td>1992</td>\n",
              "      <td>13.498564</td>\n",
              "      <td>10506.707692</td>\n",
              "    </tr>\n",
              "    <tr>\n",
              "      <th>8</th>\n",
              "      <td>1993</td>\n",
              "      <td>13.833705</td>\n",
              "      <td>10553.584615</td>\n",
              "    </tr>\n",
              "    <tr>\n",
              "      <th>9</th>\n",
              "      <td>1994</td>\n",
              "      <td>14.073272</td>\n",
              "      <td>11567.102941</td>\n",
              "    </tr>\n",
              "    <tr>\n",
              "      <th>10</th>\n",
              "      <td>1995</td>\n",
              "      <td>15.662671</td>\n",
              "      <td>12669.346154</td>\n",
              "    </tr>\n",
              "    <tr>\n",
              "      <th>11</th>\n",
              "      <td>1996</td>\n",
              "      <td>15.305422</td>\n",
              "      <td>12554.909091</td>\n",
              "    </tr>\n",
              "    <tr>\n",
              "      <th>12</th>\n",
              "      <td>1997</td>\n",
              "      <td>14.954361</td>\n",
              "      <td>12336.142857</td>\n",
              "    </tr>\n",
              "    <tr>\n",
              "      <th>13</th>\n",
              "      <td>1998</td>\n",
              "      <td>14.926920</td>\n",
              "      <td>12137.898734</td>\n",
              "    </tr>\n",
              "    <tr>\n",
              "      <th>14</th>\n",
              "      <td>1999</td>\n",
              "      <td>14.532038</td>\n",
              "      <td>12832.192771</td>\n",
              "    </tr>\n",
              "    <tr>\n",
              "      <th>15</th>\n",
              "      <td>2000</td>\n",
              "      <td>13.941328</td>\n",
              "      <td>12466.546512</td>\n",
              "    </tr>\n",
              "    <tr>\n",
              "      <th>16</th>\n",
              "      <td>2001</td>\n",
              "      <td>13.519138</td>\n",
              "      <td>12005.579545</td>\n",
              "    </tr>\n",
              "    <tr>\n",
              "      <th>17</th>\n",
              "      <td>2002</td>\n",
              "      <td>13.786550</td>\n",
              "      <td>12613.779070</td>\n",
              "    </tr>\n",
              "    <tr>\n",
              "      <th>18</th>\n",
              "      <td>2003</td>\n",
              "      <td>13.205019</td>\n",
              "      <td>14716.186047</td>\n",
              "    </tr>\n",
              "    <tr>\n",
              "      <th>19</th>\n",
              "      <td>2004</td>\n",
              "      <td>12.481944</td>\n",
              "      <td>17753.904762</td>\n",
              "    </tr>\n",
              "    <tr>\n",
              "      <th>20</th>\n",
              "      <td>2005</td>\n",
              "      <td>12.068442</td>\n",
              "      <td>20155.964286</td>\n",
              "    </tr>\n",
              "    <tr>\n",
              "      <th>21</th>\n",
              "      <td>2006</td>\n",
              "      <td>11.927461</td>\n",
              "      <td>21140.964706</td>\n",
              "    </tr>\n",
              "    <tr>\n",
              "      <th>22</th>\n",
              "      <td>2007</td>\n",
              "      <td>12.025339</td>\n",
              "      <td>23943.430233</td>\n",
              "    </tr>\n",
              "    <tr>\n",
              "      <th>23</th>\n",
              "      <td>2008</td>\n",
              "      <td>11.907686</td>\n",
              "      <td>26408.047059</td>\n",
              "    </tr>\n",
              "    <tr>\n",
              "      <th>24</th>\n",
              "      <td>2009</td>\n",
              "      <td>11.400787</td>\n",
              "      <td>22607.910112</td>\n",
              "    </tr>\n",
              "    <tr>\n",
              "      <th>25</th>\n",
              "      <td>2010</td>\n",
              "      <td>11.215900</td>\n",
              "      <td>23857.193182</td>\n",
              "    </tr>\n",
              "    <tr>\n",
              "      <th>26</th>\n",
              "      <td>2011</td>\n",
              "      <td>11.015349</td>\n",
              "      <td>26100.918605</td>\n",
              "    </tr>\n",
              "    <tr>\n",
              "      <th>27</th>\n",
              "      <td>2012</td>\n",
              "      <td>11.421718</td>\n",
              "      <td>26808.950617</td>\n",
              "    </tr>\n",
              "    <tr>\n",
              "      <th>28</th>\n",
              "      <td>2013</td>\n",
              "      <td>11.107958</td>\n",
              "      <td>28032.675000</td>\n",
              "    </tr>\n",
              "    <tr>\n",
              "      <th>29</th>\n",
              "      <td>2014</td>\n",
              "      <td>11.011464</td>\n",
              "      <td>27420.141026</td>\n",
              "    </tr>\n",
              "    <tr>\n",
              "      <th>30</th>\n",
              "      <td>2015</td>\n",
              "      <td>11.094073</td>\n",
              "      <td>26231.193548</td>\n",
              "    </tr>\n",
              "    <tr>\n",
              "      <th>31</th>\n",
              "      <td>2016</td>\n",
              "      <td>13.421188</td>\n",
              "      <td>25665.125000</td>\n",
              "    </tr>\n",
              "  </tbody>\n",
              "</table>\n",
              "</div>"
            ],
            "text/plain": [
              "    year  suicides/100k pop  gdp_per_capita ($)\n",
              "0   1985          11.826198         6091.229167\n",
              "1   1986          11.423333         7126.104167\n",
              "2   1987          11.644213         8712.592593\n",
              "3   1988          12.709405         9983.857143\n",
              "4   1989          12.879071         9725.038462\n",
              "5   1990          12.862956         9806.328125\n",
              "6   1991          13.438880        10132.937500\n",
              "7   1992          13.498564        10506.707692\n",
              "8   1993          13.833705        10553.584615\n",
              "9   1994          14.073272        11567.102941\n",
              "10  1995          15.662671        12669.346154\n",
              "11  1996          15.305422        12554.909091\n",
              "12  1997          14.954361        12336.142857\n",
              "13  1998          14.926920        12137.898734\n",
              "14  1999          14.532038        12832.192771\n",
              "15  2000          13.941328        12466.546512\n",
              "16  2001          13.519138        12005.579545\n",
              "17  2002          13.786550        12613.779070\n",
              "18  2003          13.205019        14716.186047\n",
              "19  2004          12.481944        17753.904762\n",
              "20  2005          12.068442        20155.964286\n",
              "21  2006          11.927461        21140.964706\n",
              "22  2007          12.025339        23943.430233\n",
              "23  2008          11.907686        26408.047059\n",
              "24  2009          11.400787        22607.910112\n",
              "25  2010          11.215900        23857.193182\n",
              "26  2011          11.015349        26100.918605\n",
              "27  2012          11.421718        26808.950617\n",
              "28  2013          11.107958        28032.675000\n",
              "29  2014          11.011464        27420.141026\n",
              "30  2015          11.094073        26231.193548\n",
              "31  2016          13.421188        25665.125000"
            ]
          },
          "metadata": {
            "tags": []
          },
          "execution_count": 56
        }
      ]
    },
    {
      "cell_type": "markdown",
      "metadata": {
        "id": "j6y3S7MtWHC7"
      },
      "source": [
        "Using linegraphs to compare the GDP and Suicide Rate trends\n"
      ]
    },
    {
      "cell_type": "code",
      "metadata": {
        "colab": {
          "base_uri": "https://localhost:8080/",
          "height": 275
        },
        "id": "jf1tweFLWGEz",
        "outputId": "4aada403-b407-4b4e-cc3a-bdc1f6b8de28"
      },
      "source": [
        "#line graph 1\n",
        "fig, ax = plt.subplots(figsize=(20, 5))\n",
        "year_SR = ax.plot(GDP_SR_Year['year'],GDP_SR_Year['suicides/100k pop'],marker='o',color='RED', label='Suicide rate')\n",
        "\n",
        "#line graph 2\n",
        "ax2 = ax.twinx()\n",
        "year_GDP = ax2.plot(GDP_SR_Year['year'],GDP_SR_Year['gdp_per_capita ($)'],marker='*',color='BLUE', label='GDP') \n",
        "\n",
        "# Joining legends.\n",
        "lns = year_SR + year_GDP\n",
        "labels = [l.get_label() for l in lns]\n",
        "ax.legend(lns, labels, loc=2)\n",
        "\n",
        "# Setting labels\n",
        "ax.set_ylabel('Suicides per 100k population')\n",
        "ax2.set_ylabel('GDP per Capita($)')\n",
        "ax.set_xlabel('Time(Years)')\n",
        "ax.set(xticks=Suicide['year'].unique());\n",
        "plt.title('Relationship between GDP and Suicide rate');"
      ],
      "execution_count": null,
      "outputs": [
        {
          "output_type": "display_data",
          "data": {
            "image/png": "[encoded data removed]",
            "text/plain": [
              "<Figure size 1440x360 with 2 Axes>"
            ]
          },
          "metadata": {
            "tags": [],
            "needs_background": "light"
          }
        }
      ]
    },
    {
      "cell_type": "markdown",
      "metadata": {
        "id": "GvEg3GeP1W0-"
      },
      "source": [
        "### 1.4.2 Which country has the highest suicide rate?"
      ]
    },
    {
      "cell_type": "code",
      "metadata": {
        "id": "lWOPrLk11iW5",
        "colab": {
          "base_uri": "https://localhost:8080/",
          "height": 111
        },
        "outputId": "0765ef52-16b7-4c45-c1f8-53f9badc2a24"
      },
      "source": [
        "#The country with the highest suicide rate is gotten by getting the mean of the suicide rates in every year per country\n",
        "#\n",
        "greatest_suicidals = Suicide.groupby(\"country\")['suicides/100k pop'].mean().sort_values(ascending=False).head(1)\n",
        "greatest_suicidals.to_frame()"
      ],
      "execution_count": null,
      "outputs": [
        {
          "output_type": "execute_result",
          "data": {
            "text/html": [
              "<div>\n",
              "<style scoped>\n",
              "    .dataframe tbody tr th:only-of-type {\n",
              "        vertical-align: middle;\n",
              "    }\n",
              "\n",
              "    .dataframe tbody tr th {\n",
              "        vertical-align: top;\n",
              "    }\n",
              "\n",
              "    .dataframe thead th {\n",
              "        text-align: right;\n",
              "    }\n",
              "</style>\n",
              "<table border=\"1\" class=\"dataframe\">\n",
              "  <thead>\n",
              "    <tr style=\"text-align: right;\">\n",
              "      <th></th>\n",
              "      <th>suicides/100k pop</th>\n",
              "    </tr>\n",
              "    <tr>\n",
              "      <th>country</th>\n",
              "      <th></th>\n",
              "    </tr>\n",
              "  </thead>\n",
              "  <tbody>\n",
              "    <tr>\n",
              "      <th>Lithuania</th>\n",
              "      <td>40.415573</td>\n",
              "    </tr>\n",
              "  </tbody>\n",
              "</table>\n",
              "</div>"
            ],
            "text/plain": [
              "           suicides/100k pop\n",
              "country                     \n",
              "Lithuania          40.415573"
            ]
          },
          "metadata": {
            "tags": []
          },
          "execution_count": 58
        }
      ]
    },
    {
      "cell_type": "markdown",
      "metadata": {
        "id": "cC5oQ4TnyAH8"
      },
      "source": [
        "###1.4.3 Which continent has the highest suicides rate"
      ]
    },
    {
      "cell_type": "code",
      "metadata": {
        "colab": {
          "base_uri": "https://localhost:8080/",
          "height": 111
        },
        "id": "mFykrxZNyncD",
        "outputId": "43c505fc-c7dd-45a4-c8f4-8b13cbdc086a"
      },
      "source": [
        "greatest_suicidals = Suicide.groupby(\"Continent\")['suicides/100k pop'].mean().sort_values(ascending=False).head(1)\n",
        "greatest_suicidals.to_frame()"
      ],
      "execution_count": null,
      "outputs": [
        {
          "output_type": "execute_result",
          "data": {
            "text/html": [
              "<div>\n",
              "<style scoped>\n",
              "    .dataframe tbody tr th:only-of-type {\n",
              "        vertical-align: middle;\n",
              "    }\n",
              "\n",
              "    .dataframe tbody tr th {\n",
              "        vertical-align: top;\n",
              "    }\n",
              "\n",
              "    .dataframe thead th {\n",
              "        text-align: right;\n",
              "    }\n",
              "</style>\n",
              "<table border=\"1\" class=\"dataframe\">\n",
              "  <thead>\n",
              "    <tr style=\"text-align: right;\">\n",
              "      <th></th>\n",
              "      <th>suicides/100k pop</th>\n",
              "    </tr>\n",
              "    <tr>\n",
              "      <th>Continent</th>\n",
              "      <th></th>\n",
              "    </tr>\n",
              "  </thead>\n",
              "  <tbody>\n",
              "    <tr>\n",
              "      <th>Europe</th>\n",
              "      <td>17.472129</td>\n",
              "    </tr>\n",
              "  </tbody>\n",
              "</table>\n",
              "</div>"
            ],
            "text/plain": [
              "           suicides/100k pop\n",
              "Continent                   \n",
              "Europe             17.472129"
            ]
          },
          "metadata": {
            "tags": []
          },
          "execution_count": 68
        }
      ]
    },
    {
      "cell_type": "code",
      "metadata": {
        "colab": {
          "base_uri": "https://localhost:8080/",
          "height": 111
        },
        "id": "k_OL6NmuzWdf",
        "outputId": "bcdfef92-c1e0-4e4c-e64f-ebccb8e85108"
      },
      "source": [
        "greatest_suicidals = Suicide.groupby(\"Continent\")['suicides/100k pop'].mean().sort_values(ascending=True).head(1)\n",
        "greatest_suicidals.to_frame()"
      ],
      "execution_count": null,
      "outputs": [
        {
          "output_type": "execute_result",
          "data": {
            "text/html": [
              "<div>\n",
              "<style scoped>\n",
              "    .dataframe tbody tr th:only-of-type {\n",
              "        vertical-align: middle;\n",
              "    }\n",
              "\n",
              "    .dataframe tbody tr th {\n",
              "        vertical-align: top;\n",
              "    }\n",
              "\n",
              "    .dataframe thead th {\n",
              "        text-align: right;\n",
              "    }\n",
              "</style>\n",
              "<table border=\"1\" class=\"dataframe\">\n",
              "  <thead>\n",
              "    <tr style=\"text-align: right;\">\n",
              "      <th></th>\n",
              "      <th>suicides/100k pop</th>\n",
              "    </tr>\n",
              "    <tr>\n",
              "      <th>Continent</th>\n",
              "      <th></th>\n",
              "    </tr>\n",
              "  </thead>\n",
              "  <tbody>\n",
              "    <tr>\n",
              "      <th>Africa</th>\n",
              "      <td>7.583071</td>\n",
              "    </tr>\n",
              "  </tbody>\n",
              "</table>\n",
              "</div>"
            ],
            "text/plain": [
              "           suicides/100k pop\n",
              "Continent                   \n",
              "Africa              7.583071"
            ]
          },
          "metadata": {
            "tags": []
          },
          "execution_count": 71
        }
      ]
    },
    {
      "cell_type": "code",
      "metadata": {
        "colab": {
          "base_uri": "https://localhost:8080/",
          "height": 388
        },
        "id": "KaseH8GV0xE9",
        "outputId": "be5de605-31de-4557-8b19-57d77ffc8d9d"
      },
      "source": [
        "# Suicide.groupby(\"Continent\")['suicides/100k pop'].mean().sort_values(ascending=True).plot.bar()\n",
        "fig=plt.figure(figsize=(8,6));\n",
        "sns.barplot(x='Continent',y='suicides/100k pop',data=Suicide[['Continent','suicides/100k pop']]\n",
        "            .groupby('Continent',as_index=False).mean().sort_values(by='suicides/100k pop',ascending=False));"
      ],
      "execution_count": 11,
      "outputs": [
        {
          "output_type": "display_data",
          "data": {
            "image/png": "[encoded data removed]",
            "text/plain": [
              "<Figure size 576x432 with 1 Axes>"
            ]
          },
          "metadata": {
            "tags": [],
            "needs_background": "light"
          }
        }
      ]
    },
    {
      "cell_type": "markdown",
      "metadata": {
        "id": "RIw_Swhl7J6g"
      },
      "source": [
        "### 1.4.4 Which country has the lowest sucide rate?"
      ]
    },
    {
      "cell_type": "code",
      "metadata": {
        "id": "aS-6BXYEwpf9",
        "colab": {
          "base_uri": "https://localhost:8080/",
          "height": 111
        },
        "outputId": "71e3b869-c9bf-430f-bdd1-98dac9db85e4"
      },
      "source": [
        "#The country with the lowest suicide rate is gotten by getting the mean of the suicide rates in every year per country\n",
        "#\n",
        "lowest_suicidals = Suicide.groupby('country')['suicides/100k pop'].mean().sort_values(ascending=True).head(1)\n",
        "lowest_suicidals.to_frame()\n"
      ],
      "execution_count": null,
      "outputs": [
        {
          "output_type": "execute_result",
          "data": {
            "text/html": [
              "<div>\n",
              "<style scoped>\n",
              "    .dataframe tbody tr th:only-of-type {\n",
              "        vertical-align: middle;\n",
              "    }\n",
              "\n",
              "    .dataframe tbody tr th {\n",
              "        vertical-align: top;\n",
              "    }\n",
              "\n",
              "    .dataframe thead th {\n",
              "        text-align: right;\n",
              "    }\n",
              "</style>\n",
              "<table border=\"1\" class=\"dataframe\">\n",
              "  <thead>\n",
              "    <tr style=\"text-align: right;\">\n",
              "      <th></th>\n",
              "      <th>suicides/100k pop</th>\n",
              "    </tr>\n",
              "    <tr>\n",
              "      <th>country</th>\n",
              "      <th></th>\n",
              "    </tr>\n",
              "  </thead>\n",
              "  <tbody>\n",
              "    <tr>\n",
              "      <th>Saint Kitts and Nevis</th>\n",
              "      <td>0.0</td>\n",
              "    </tr>\n",
              "  </tbody>\n",
              "</table>\n",
              "</div>"
            ],
            "text/plain": [
              "                       suicides/100k pop\n",
              "country                                 \n",
              "Saint Kitts and Nevis                0.0"
            ]
          },
          "metadata": {
            "tags": []
          },
          "execution_count": 59
        }
      ]
    },
    {
      "cell_type": "markdown",
      "metadata": {
        "id": "Wg5-aSP5-HiE"
      },
      "source": [
        "### 1.4.5 Which age group has the highest suicide rate?"
      ]
    },
    {
      "cell_type": "code",
      "metadata": {
        "colab": {
          "base_uri": "https://localhost:8080/",
          "height": 266
        },
        "id": "a30_BzJW8l43",
        "outputId": "d8387b6f-050b-44e4-f0ee-878aa977aeff"
      },
      "source": [
        "#To get the highest to lowest suicide of each age group\n",
        "#\n",
        "suicidal_age = Suicide.groupby(\"age\")['suicides/100k pop'].mean().sort_values(ascending=False)\n",
        "suicidal_age.to_frame()"
      ],
      "execution_count": null,
      "outputs": [
        {
          "output_type": "execute_result",
          "data": {
            "text/html": [
              "<div>\n",
              "<style scoped>\n",
              "    .dataframe tbody tr th:only-of-type {\n",
              "        vertical-align: middle;\n",
              "    }\n",
              "\n",
              "    .dataframe tbody tr th {\n",
              "        vertical-align: top;\n",
              "    }\n",
              "\n",
              "    .dataframe thead th {\n",
              "        text-align: right;\n",
              "    }\n",
              "</style>\n",
              "<table border=\"1\" class=\"dataframe\">\n",
              "  <thead>\n",
              "    <tr style=\"text-align: right;\">\n",
              "      <th></th>\n",
              "      <th>suicides/100k pop</th>\n",
              "    </tr>\n",
              "    <tr>\n",
              "      <th>age</th>\n",
              "      <th></th>\n",
              "    </tr>\n",
              "  </thead>\n",
              "  <tbody>\n",
              "    <tr>\n",
              "      <th>75+ years</th>\n",
              "      <td>23.955409</td>\n",
              "    </tr>\n",
              "    <tr>\n",
              "      <th>55-74 years</th>\n",
              "      <td>16.155579</td>\n",
              "    </tr>\n",
              "    <tr>\n",
              "      <th>35-54 years</th>\n",
              "      <td>14.947441</td>\n",
              "    </tr>\n",
              "    <tr>\n",
              "      <th>25-34 years</th>\n",
              "      <td>12.186885</td>\n",
              "    </tr>\n",
              "    <tr>\n",
              "      <th>15-24 years</th>\n",
              "      <td>8.947154</td>\n",
              "    </tr>\n",
              "    <tr>\n",
              "      <th>5-14 years</th>\n",
              "      <td>0.620041</td>\n",
              "    </tr>\n",
              "  </tbody>\n",
              "</table>\n",
              "</div>"
            ],
            "text/plain": [
              "             suicides/100k pop\n",
              "age                           \n",
              "75+ years            23.955409\n",
              "55-74 years          16.155579\n",
              "35-54 years          14.947441\n",
              "25-34 years          12.186885\n",
              "15-24 years           8.947154\n",
              "5-14 years            0.620041"
            ]
          },
          "metadata": {
            "tags": []
          },
          "execution_count": 60
        }
      ]
    },
    {
      "cell_type": "code",
      "metadata": {
        "colab": {
          "base_uri": "https://localhost:8080/",
          "height": 390
        },
        "id": "B52p4fZ8jOtr",
        "outputId": "505295bb-a01f-48fb-dc0e-6f85ee780016"
      },
      "source": [
        "#Plot a bargraph to display the trend in the suicide rates per age group\n",
        "#\n",
        "fig=plt.figure(figsize=(8,6));\n",
        "sns.barplot(x='age',y='suicides/100k pop',data=Suicide[['age','suicides/100k pop']]\n",
        "            .groupby('age',as_index=False).mean().sort_values(by='suicides/100k pop',ascending=False));"
      ],
      "execution_count": null,
      "outputs": [
        {
          "output_type": "display_data",
          "data": {
            "image/png": "[encoded data removed]",
            "text/plain": [
              "<Figure size 576x432 with 1 Axes>"
            ]
          },
          "metadata": {
            "tags": [],
            "needs_background": "light"
          }
        }
      ]
    },
    {
      "cell_type": "markdown",
      "metadata": {
        "id": "JtjHnkoUFZBZ"
      },
      "source": [
        "### 1.4.6 Which gender is more prone to committing suicide?"
      ]
    },
    {
      "cell_type": "code",
      "metadata": {
        "colab": {
          "base_uri": "https://localhost:8080/",
          "height": 142
        },
        "id": "doz_fe9_FYFH",
        "outputId": "3e015049-10bc-4f45-c9be-b54923ad88f7"
      },
      "source": [
        "#The gender that is most prone to suicide using the mainstream genders male amd female\n",
        "#\n",
        "suicidal_gender = Suicide.groupby(\"sex\")['suicides/100k pop'].mean().sort_values(ascending=False)\n",
        "suicidal_gender.to_frame()"
      ],
      "execution_count": null,
      "outputs": [
        {
          "output_type": "execute_result",
          "data": {
            "text/html": [
              "<div>\n",
              "<style scoped>\n",
              "    .dataframe tbody tr th:only-of-type {\n",
              "        vertical-align: middle;\n",
              "    }\n",
              "\n",
              "    .dataframe tbody tr th {\n",
              "        vertical-align: top;\n",
              "    }\n",
              "\n",
              "    .dataframe thead th {\n",
              "        text-align: right;\n",
              "    }\n",
              "</style>\n",
              "<table border=\"1\" class=\"dataframe\">\n",
              "  <thead>\n",
              "    <tr style=\"text-align: right;\">\n",
              "      <th></th>\n",
              "      <th>suicides/100k pop</th>\n",
              "    </tr>\n",
              "    <tr>\n",
              "      <th>sex</th>\n",
              "      <th></th>\n",
              "    </tr>\n",
              "  </thead>\n",
              "  <tbody>\n",
              "    <tr>\n",
              "      <th>male</th>\n",
              "      <td>20.239329</td>\n",
              "    </tr>\n",
              "    <tr>\n",
              "      <th>female</th>\n",
              "      <td>5.392866</td>\n",
              "    </tr>\n",
              "  </tbody>\n",
              "</table>\n",
              "</div>"
            ],
            "text/plain": [
              "        suicides/100k pop\n",
              "sex                      \n",
              "male            20.239329\n",
              "female           5.392866"
            ]
          },
          "metadata": {
            "tags": []
          },
          "execution_count": 62
        }
      ]
    },
    {
      "cell_type": "code",
      "metadata": {
        "colab": {
          "base_uri": "https://localhost:8080/",
          "height": 321
        },
        "id": "muv3Yx4CJBvQ",
        "outputId": "ee6f9b96-f7c0-44e4-b661-b93911f84a5a"
      },
      "source": [
        "#plotting a barchart to compare the suicide rate between male and female\n",
        "#\n",
        "suicidal_gender.to_frame().plot.bar()"
      ],
      "execution_count": null,
      "outputs": [
        {
          "output_type": "execute_result",
          "data": {
            "text/plain": [
              "<matplotlib.axes._subplots.AxesSubplot at 0x7f7377001f90>"
            ]
          },
          "metadata": {
            "tags": []
          },
          "execution_count": 63
        },
        {
          "output_type": "display_data",
          "data": {
            "image/png": "[encoded data removed]",
            "text/plain": [
              "<Figure size 432x288 with 1 Axes>"
            ]
          },
          "metadata": {
            "tags": [],
            "needs_background": "light"
          }
        }
      ]
    },
    {
      "cell_type": "markdown",
      "metadata": {
        "id": "4Aj5rgwxLaYW"
      },
      "source": [
        "### 1.4.7 Is the suicide rate increasing or decreasing over the years 1985-2016?"
      ]
    },
    {
      "cell_type": "code",
      "metadata": {
        "colab": {
          "base_uri": "https://localhost:8080/"
        },
        "id": "8IAliKkwKwJm",
        "outputId": "0f09efd6-efee-41c4-906c-2e8aaec31599"
      },
      "source": [
        "#Grouping by year to see a trend in suicide over the years\n",
        "#\n",
        "suicidal_year = Suicide.groupby(\"year\")['suicides/100k pop'].mean().sort_values(ascending=False)\n",
        "suicidal_year"
      ],
      "execution_count": null,
      "outputs": [
        {
          "output_type": "execute_result",
          "data": {
            "text/plain": [
              "year\n",
              "1995    15.662671\n",
              "1996    15.305422\n",
              "1997    14.954361\n",
              "1998    14.926920\n",
              "1999    14.532038\n",
              "1994    14.073272\n",
              "2000    13.941328\n",
              "1993    13.833705\n",
              "2002    13.786550\n",
              "2001    13.519138\n",
              "1992    13.498564\n",
              "1991    13.438880\n",
              "2016    13.421188\n",
              "2003    13.205019\n",
              "1989    12.879071\n",
              "1990    12.862956\n",
              "1988    12.709405\n",
              "2004    12.481944\n",
              "2005    12.068442\n",
              "2007    12.025339\n",
              "2006    11.927461\n",
              "2008    11.907686\n",
              "1985    11.826198\n",
              "1987    11.644213\n",
              "1986    11.423333\n",
              "2012    11.421718\n",
              "2009    11.400787\n",
              "2010    11.215900\n",
              "2013    11.107958\n",
              "2015    11.094073\n",
              "2011    11.015349\n",
              "2014    11.011464\n",
              "Name: suicides/100k pop, dtype: float64"
            ]
          },
          "metadata": {
            "tags": []
          },
          "execution_count": 64
        }
      ]
    },
    {
      "cell_type": "code",
      "metadata": {
        "colab": {
          "base_uri": "https://localhost:8080/",
          "height": 287
        },
        "id": "rg3_R8T1SCey",
        "outputId": "b6e141f7-6895-49a6-e57c-fdf61466beeb"
      },
      "source": [
        "#Using a linegraph to try and recognize a trend\n",
        "#\n",
        "fig, ax = plt.subplots(figsize=(20, 5))\n",
        "plt.title('Suicide rate between 1985-2016');\n",
        "sns.lineplot(x='year', y='suicides/100k pop', data=Suicide[['year','suicides/100k pop']].groupby('year',as_index=False).mean().sort_values(by='year',ascending=True),marker='o',color='BLACK');\n",
        "ax.set(xticks=Suicide['year'].unique());"
      ],
      "execution_count": null,
      "outputs": [
        {
          "output_type": "display_data",
          "data": {
            "image/png": "[encoded data removed]",
            "text/plain": [
              "<Figure size 1440x360 with 1 Axes>"
            ]
          },
          "metadata": {
            "tags": [],
            "needs_background": "light"
          }
        }
      ]
    },
    {
      "cell_type": "markdown",
      "metadata": {
        "id": "-QZ30RREK6fe"
      },
      "source": [
        "### 1.4.8 Which country and year had the highest suicide rate?"
      ]
    },
    {
      "cell_type": "code",
      "metadata": {
        "colab": {
          "base_uri": "https://localhost:8080/",
          "height": 111
        },
        "id": "KXDPCYtewkhy",
        "outputId": "1b02ced9-0d9a-40c2-c3d7-d4c830cda8de"
      },
      "source": [
        "#The country and year with the highest suicide rate\n",
        "#\n",
        "highest_suicides_per_100k = Suicide.groupby([\"country\",\"year\"])[\"suicides/100k pop\"].max().sort_values(ascending=False).head(1)\n",
        "highest_suicides_per_100k.to_frame()"
      ],
      "execution_count": null,
      "outputs": [
        {
          "output_type": "execute_result",
          "data": {
            "text/html": [
              "<div>\n",
              "<style scoped>\n",
              "    .dataframe tbody tr th:only-of-type {\n",
              "        vertical-align: middle;\n",
              "    }\n",
              "\n",
              "    .dataframe tbody tr th {\n",
              "        vertical-align: top;\n",
              "    }\n",
              "\n",
              "    .dataframe thead th {\n",
              "        text-align: right;\n",
              "    }\n",
              "</style>\n",
              "<table border=\"1\" class=\"dataframe\">\n",
              "  <thead>\n",
              "    <tr style=\"text-align: right;\">\n",
              "      <th></th>\n",
              "      <th></th>\n",
              "      <th>suicides/100k pop</th>\n",
              "    </tr>\n",
              "    <tr>\n",
              "      <th>country</th>\n",
              "      <th>year</th>\n",
              "      <th></th>\n",
              "    </tr>\n",
              "  </thead>\n",
              "  <tbody>\n",
              "    <tr>\n",
              "      <th>Aruba</th>\n",
              "      <th>1995</th>\n",
              "      <td>224.97</td>\n",
              "    </tr>\n",
              "  </tbody>\n",
              "</table>\n",
              "</div>"
            ],
            "text/plain": [
              "              suicides/100k pop\n",
              "country year                   \n",
              "Aruba   1995             224.97"
            ]
          },
          "metadata": {
            "tags": []
          },
          "execution_count": 66
        }
      ]
    },
    {
      "cell_type": "markdown",
      "metadata": {
        "id": "ObIx7f_uL53A"
      },
      "source": [
        "### 1.4.9 Which and year had the lowest suicide rate?"
      ]
    },
    {
      "cell_type": "code",
      "metadata": {
        "colab": {
          "base_uri": "https://localhost:8080/",
          "height": 111
        },
        "id": "E2bL1xtpVFqq",
        "outputId": "68b08ca8-6920-424f-8ffa-88362aaedcfe"
      },
      "source": [
        "#The country and year with the lowest suicide rate\n",
        "#\n",
        "lowest_suicides_per_100k= Suicide.groupby([\"country\",\"year\"])[\"suicides/100k pop\"].max().sort_values(ascending=True).head(1)\n",
        "lowest_suicides_per_100k.to_frame()"
      ],
      "execution_count": null,
      "outputs": [
        {
          "output_type": "execute_result",
          "data": {
            "text/html": [
              "<div>\n",
              "<style scoped>\n",
              "    .dataframe tbody tr th:only-of-type {\n",
              "        vertical-align: middle;\n",
              "    }\n",
              "\n",
              "    .dataframe tbody tr th {\n",
              "        vertical-align: top;\n",
              "    }\n",
              "\n",
              "    .dataframe thead th {\n",
              "        text-align: right;\n",
              "    }\n",
              "</style>\n",
              "<table border=\"1\" class=\"dataframe\">\n",
              "  <thead>\n",
              "    <tr style=\"text-align: right;\">\n",
              "      <th></th>\n",
              "      <th></th>\n",
              "      <th>suicides/100k pop</th>\n",
              "    </tr>\n",
              "    <tr>\n",
              "      <th>country</th>\n",
              "      <th>year</th>\n",
              "      <th></th>\n",
              "    </tr>\n",
              "  </thead>\n",
              "  <tbody>\n",
              "    <tr>\n",
              "      <th>Bahrain</th>\n",
              "      <th>1997</th>\n",
              "      <td>0.0</td>\n",
              "    </tr>\n",
              "  </tbody>\n",
              "</table>\n",
              "</div>"
            ],
            "text/plain": [
              "              suicides/100k pop\n",
              "country year                   \n",
              "Bahrain 1997                0.0"
            ]
          },
          "metadata": {
            "tags": []
          },
          "execution_count": 67
        }
      ]
    },
    {
      "cell_type": "markdown",
      "metadata": {
        "id": "DN0Av_6NXSfr"
      },
      "source": [
        "#1.5 Conclusion\n",
        "* It seems there is no clear correlation between GDP and suicide rate.\n",
        "* It is however obvious, that the GDP is steadily improving in this period between 1985 - 2016\n",
        "* According to the linegraph, we can see that the overall suicide rate is gradually increasing from 1985 to 1994, and peaked at 1995. \n",
        "* It then slowly decreases till 2015 and dramatically increases again at 2016.\n",
        "* Male has higher suicide rate than Female\n",
        "* Suicide rate is increasing with age.\n"
      ]
    }
  ]
}